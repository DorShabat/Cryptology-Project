{
  "nbformat": 4,
  "nbformat_minor": 0,
  "metadata": {
    "colab": {
      "provenance": [],
      "authorship_tag": "ABX9TyMrcbuoJp3NdTIXDAAproRV",
      "include_colab_link": true
    },
    "kernelspec": {
      "name": "python3",
      "display_name": "Python 3"
    },
    "language_info": {
      "name": "python"
    }
  },
  "cells": [
    {
      "cell_type": "markdown",
      "metadata": {
        "id": "view-in-github",
        "colab_type": "text"
      },
      "source": [
        "<a href=\"https://colab.research.google.com/github/DorShabat/Cryptology-Project/blob/main/Schnorr_signature.ipynb\" target=\"_parent\"><img src=\"https://colab.research.google.com/assets/colab-badge.svg\" alt=\"Open In Colab\"/></a>"
      ]
    },
    {
      "cell_type": "markdown",
      "source": [
        "# Schnorr signature"
      ],
      "metadata": {
        "id": "4rcMWEWKFK3w"
      }
    },
    {
      "cell_type": "markdown",
      "source": [
        "by https://www.youtube.com/watch?v=mV9hXEFUB6A&ab_channel=Theoretically"
      ],
      "metadata": {
        "id": "VtMMOEQxxyzv"
      }
    },
    {
      "cell_type": "markdown",
      "source": [
        "## pips:"
      ],
      "metadata": {
        "id": "2YIJaptr08dJ"
      }
    },
    {
      "cell_type": "code",
      "execution_count": null,
      "metadata": {
        "id": "s1odet-PUHKc"
      },
      "outputs": [],
      "source": [
        "%%capture\n",
        "!pip install cryptography"
      ]
    },
    {
      "cell_type": "markdown",
      "source": [],
      "metadata": {
        "id": "xp0I6pS10-1t"
      }
    },
    {
      "cell_type": "markdown",
      "source": [
        "##imports:"
      ],
      "metadata": {
        "id": "DIyLVeMS_3qh"
      }
    },
    {
      "cell_type": "code",
      "source": [
        "import numpy as np\n",
        "import sympy\n",
        "import os\n",
        "import random\n",
        "import hashlib\n",
        "from sympy.ntheory.generate import randprime"
      ],
      "metadata": {
        "id": "l8slg_az_6mI"
      },
      "execution_count": null,
      "outputs": []
    },
    {
      "cell_type": "markdown",
      "source": [
        "## functions for generating the mathematical parameters:"
      ],
      "metadata": {
        "id": "3lEpWzCL0_8n"
      }
    },
    {
      "cell_type": "code",
      "source": [
        "def get_biggest_factor_of_prime_minus_one(prime):\n",
        "    if not sympy.isprime(prime):\n",
        "        raise ValueError(\"The input number is not a prime number.\")\n",
        "    p_minus_1 = prime - 1\n",
        "    factors = sympy.factorint(p_minus_1)\n",
        "    return max(factors.keys())\n",
        "\n",
        "def mod_exp(base, exp, mod):\n",
        "    result = 1\n",
        "    base = base % mod\n",
        "    while exp > 0:\n",
        "        if exp % 2 == 1:\n",
        "            result = (result * base) % mod\n",
        "        exp = exp >> 1\n",
        "        base = (base * base) % mod\n",
        "    return result\n",
        "\n",
        "def find_a(Q, P):\n",
        "    if Q == 0:\n",
        "        raise ValueError(\"Q must be non-zero.\")\n",
        "    if P <= 1:\n",
        "        raise ValueError(\"P must be greater than 1.\")\n",
        "    A = 2\n",
        "    while A < P:\n",
        "        if mod_exp(A, Q, P) == 1:\n",
        "            return A\n",
        "        A += 1\n",
        "    raise ValueError(\"No non-trivial solution found.\")\n",
        "\n",
        "def mod_inverse(a, Q):\n",
        "    \"\"\"\n",
        "    Helper function to find the modular inverse of a under modulo Q\n",
        "    \"\"\"\n",
        "    g, x, y = extended_gcd(a, Q)\n",
        "    if g != 1:\n",
        "        raise ValueError(f\"Modular inverse does not exist for a={a} and Q={Q}\")\n",
        "    else:\n",
        "        return x % Q\n",
        "\n",
        "def extended_gcd(a, b):\n",
        "    \"\"\"\n",
        "    Helper function that implements the Extended Euclidean Algorithm\n",
        "    Returns a tuple of (g, x, y) such that a*x + b*y = g = gcd(a, b)\n",
        "    \"\"\"\n",
        "    if a == 0:\n",
        "        return b, 0, 1\n",
        "    else:\n",
        "        g, x1, y1 = extended_gcd(b % a, a)\n",
        "        x = y1 - (b // a) * x1\n",
        "        y = x1\n",
        "        return g, x, y\n",
        "\n",
        "def calculate_V(a, s, Q):\n",
        "    # Calculate the modular inverse of a mod Q\n",
        "    a_inv = mod_inverse(a, Q)\n",
        "    # Compute a^(-s) mod Q\n",
        "    V = pow(a_inv, s, Q)\n",
        "    return V\n",
        "\n",
        "def hash_function(data):\n",
        "    if isinstance(data, str):\n",
        "        data = data.encode('utf-8')\n",
        "    sha256 = hashlib.sha256()\n",
        "    sha256.update(data)\n",
        "    return sha256.hexdigest()"
      ],
      "metadata": {
        "id": "MBi1s__u1UCV"
      },
      "execution_count": null,
      "outputs": []
    },
    {
      "cell_type": "markdown",
      "source": [
        "##Networking:"
      ],
      "metadata": {
        "id": "duAJ57e11Lpl"
      }
    },
    {
      "cell_type": "markdown",
      "source": [
        "# Alice"
      ],
      "metadata": {
        "id": "e1EH_nj-8D0J"
      }
    },
    {
      "cell_type": "markdown",
      "source": [
        "***Sign:***\n",
        "\n",
        "`M = message to be signed`\n",
        "\n",
        "global:\n",
        "```\n",
        "P = a prime number     # typically 1024-bit\n",
        "Q = a factor of P-1    # typically 160-bit\n",
        "A = a^Q === 1 mod P\n",
        "```\n",
        "private key:\n",
        "`s = random 0 < s < Q`\n",
        "\n",
        "public key:\n",
        "`V = a^(-s) mod Q`\n",
        "\n",
        "for signing:\n",
        "```\n",
        "r = random 0 < r < Q\n",
        "x = A^r mod P\n",
        "e = Hash(M||x)\n",
        "y = (r+se)modQ\n",
        "```\n",
        "\n",
        "Send: ` Message, M | Signature(e , y) `\n"
      ],
      "metadata": {
        "id": "yWcqb4869o9m"
      }
    },
    {
      "cell_type": "markdown",
      "source": [
        "### generate parameters:"
      ],
      "metadata": {
        "id": "fX_Omqjf92_p"
      }
    },
    {
      "cell_type": "code",
      "source": [
        "M = b'This is a test message with my credit card digits.' # binary msg\n",
        "\n",
        "P = randprime(100, 200) # rand a prime number.\n",
        "Q = get_biggest_factor_of_prime_minus_one(P)\n",
        "A = find_a(Q, P)\n",
        "s = random.randint(0, Q)\n",
        "V = calculate_V(A, s, Q)\n",
        "r = random.randint(0, Q)\n",
        "x = mod_exp(A, r, P)\n",
        "e = hash_function(str(M) + str(x))\n",
        "y = (r + s*int(e, 16)) % Q"
      ],
      "metadata": {
        "id": "O3TIt1yZ9yoE"
      },
      "execution_count": null,
      "outputs": []
    },
    {
      "cell_type": "markdown",
      "source": [
        "### hard coded:"
      ],
      "metadata": {
        "id": "h0H050x_9zoe"
      }
    },
    {
      "cell_type": "code",
      "source": [
        "M = b'This is a test message with my credit card digits.' # binary msg\n",
        "\n",
        "P = 191\n",
        "Q = 19\n",
        "A = 5\n",
        "s = 18\n",
        "V = 1\n",
        "r = 2\n",
        "x = 25\n",
        "e = hash_function(str(M) + str(x))\n",
        "y = 2\n",
        "\n",
        "\n",
        "##sending to Bob......"
      ],
      "metadata": {
        "id": "nIaw9Dwg8Day"
      },
      "execution_count": null,
      "outputs": []
    },
    {
      "cell_type": "markdown",
      "source": [
        "### parameters printing:"
      ],
      "metadata": {
        "id": "h3P4i8gO-sRH"
      }
    },
    {
      "cell_type": "code",
      "source": [
        "print(f'P = {P}')\n",
        "print(f'Q = {Q}')\n",
        "print(f'A = {A}')\n",
        "print(f's = {s}')\n",
        "print(f'V = {V}')\n",
        "print(f'r = {r}')\n",
        "print(f'x = {x}')\n",
        "print(f'e = {e}')\n",
        "print(f'y = {y}')"
      ],
      "metadata": {
        "colab": {
          "base_uri": "https://localhost:8080/"
        },
        "id": "sCDgajYD-rPB",
        "outputId": "1cf555e5-4166-4b1f-eab7-79877b76b7f5"
      },
      "execution_count": null,
      "outputs": [
        {
          "output_type": "stream",
          "name": "stdout",
          "text": [
            "P = 163\n",
            "Q = 3\n",
            "A = 58\n",
            "s = 0\n",
            "V = 1\n",
            "r = 2\n",
            "x = 104\n",
            "e = e36e645a1d61956a29f8af6a628f6da9d1410c44c0e6a9e8f8bd76069f6f8e04\n",
            "y = 2\n"
          ]
        }
      ]
    },
    {
      "cell_type": "markdown",
      "source": [
        "# Bob"
      ],
      "metadata": {
        "id": "zmBe8fnm8aOl"
      }
    },
    {
      "cell_type": "markdown",
      "source": [
        "\n",
        "*** Verification:***\n",
        "  \n",
        "Received:\n",
        "`(M,  e,  y)`\n",
        "\n",
        "Known publicly:\n",
        "`(A,  P,  Q,  V)`\n",
        "\n",
        "compute: `x' = (A^y * V^e) mod P`"
      ],
      "metadata": {
        "id": "fGQmWiV583qi"
      }
    },
    {
      "cell_type": "markdown",
      "source": [
        "### print what recived and known:"
      ],
      "metadata": {
        "id": "hLKQ1B42_EPh"
      }
    },
    {
      "cell_type": "code",
      "source": [
        "print(\"   Recived form alice:\\n\")\n",
        "print(f'M = {M}')\n",
        "print(f'e = {e}')\n",
        "print(f'y = {y}')\n",
        "print(\"\\n\\n  known public parameters:\\n\")\n",
        "print(f'A = {A}')\n",
        "print(f'P = {P}')\n",
        "print(f'Q = {Q}')\n",
        "print(f'V = {V}')"
      ],
      "metadata": {
        "colab": {
          "base_uri": "https://localhost:8080/"
        },
        "id": "X6RUQcqg_Hi7",
        "outputId": "fa3dcbb9-b88d-4a62-def0-431cc9126cd5"
      },
      "execution_count": null,
      "outputs": [
        {
          "output_type": "stream",
          "name": "stdout",
          "text": [
            "   Recived form alice:\n",
            "\n",
            "M = b'This is a test message with my credit card digits.'\n",
            "e = e36e645a1d61956a29f8af6a628f6da9d1410c44c0e6a9e8f8bd76069f6f8e04\n",
            "y = 2\n",
            "\n",
            "\n",
            "  known public parameters:\n",
            "\n",
            "A = 58\n",
            "P = 163\n",
            "Q = 3\n",
            "V = 1\n"
          ]
        }
      ]
    },
    {
      "cell_type": "markdown",
      "source": [
        "### compute:"
      ],
      "metadata": {
        "id": "zQwXB-0JAHCf"
      }
    },
    {
      "cell_type": "code",
      "source": [
        "## recived msg form alice...\n",
        "\n",
        "Ay = mod_exp(A, y, P)\n",
        "Ve = mod_exp(V, int(e, 16), P)\n",
        "AyVe = (Ay * Ve) % P\n",
        "x_tag = AyVe\n",
        "\n",
        "print(f'x\\'= {x_tag}')\n",
        "print(f'x = {x}\\n')\n",
        "\n",
        "e_tag = hash_function(str(M) + str(x_tag))\n",
        "print(f'e\\'= {e_tag}')\n",
        "print(f'e = {e}')\n"
      ],
      "metadata": {
        "id": "e75yv07f8eAH",
        "colab": {
          "base_uri": "https://localhost:8080/"
        },
        "outputId": "f5236462-1e27-4df8-ea92-e29bd75a6e18"
      },
      "execution_count": null,
      "outputs": [
        {
          "output_type": "stream",
          "name": "stdout",
          "text": [
            "x'= 104\n",
            "x = 104\n",
            "\n",
            "e'= e36e645a1d61956a29f8af6a628f6da9d1410c44c0e6a9e8f8bd76069f6f8e04\n",
            "e = e36e645a1d61956a29f8af6a628f6da9d1410c44c0e6a9e8f8bd76069f6f8e04\n"
          ]
        }
      ]
    }
  ]
}