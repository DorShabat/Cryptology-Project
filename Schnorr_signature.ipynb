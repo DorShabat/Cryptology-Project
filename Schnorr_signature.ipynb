{
  "nbformat": 4,
  "nbformat_minor": 0,
  "metadata": {
    "colab": {
      "provenance": [],
      "authorship_tag": "ABX9TyMqTxwn6OT5ky6UZmU89ODE",
      "include_colab_link": true
    },
    "kernelspec": {
      "name": "python3",
      "display_name": "Python 3"
    },
    "language_info": {
      "name": "python"
    }
  },
  "cells": [
    {
      "cell_type": "markdown",
      "metadata": {
        "id": "view-in-github",
        "colab_type": "text"
      },
      "source": [
        "<a href=\"https://colab.research.google.com/github/DorShabat/Cryptology-Project/blob/main/Schnorr_signature.ipynb\" target=\"_parent\"><img src=\"https://colab.research.google.com/assets/colab-badge.svg\" alt=\"Open In Colab\"/></a>"
      ]
    },
    {
      "cell_type": "markdown",
      "source": [
        "# Schnorr signature"
      ],
      "metadata": {
        "id": "4rcMWEWKFK3w"
      }
    },
    {
      "cell_type": "markdown",
      "source": [
        "by https://www.youtube.com/watch?v=mV9hXEFUB6A&ab_channel=Theoretically"
      ],
      "metadata": {
        "id": "VtMMOEQxxyzv"
      }
    },
    {
      "cell_type": "markdown",
      "source": [
        "## pips:"
      ],
      "metadata": {
        "id": "2YIJaptr08dJ"
      }
    },
    {
      "cell_type": "code",
      "execution_count": 41,
      "metadata": {
        "id": "s1odet-PUHKc"
      },
      "outputs": [],
      "source": [
        "%%capture\n",
        "!pip install cryptography\n",
        "!pip install gmpy2"
      ]
    },
    {
      "cell_type": "markdown",
      "source": [],
      "metadata": {
        "id": "xp0I6pS10-1t"
      }
    },
    {
      "cell_type": "markdown",
      "source": [
        "##imports:"
      ],
      "metadata": {
        "id": "DIyLVeMS_3qh"
      }
    },
    {
      "cell_type": "code",
      "source": [
        "import numpy as np\n",
        "import sympy\n",
        "import os\n",
        "import random\n",
        "import hashlib\n",
        "from sympy.ntheory.generate import randprime\n",
        "import gmpy2"
      ],
      "metadata": {
        "id": "l8slg_az_6mI"
      },
      "execution_count": 42,
      "outputs": []
    },
    {
      "cell_type": "markdown",
      "source": [
        "## functions for generating the mathematical parameters:"
      ],
      "metadata": {
        "id": "3lEpWzCL0_8n"
      }
    },
    {
      "cell_type": "code",
      "source": [
        "def get_factor_of_prime_minus_one(prime): # get the factor of prime - 1\n",
        "    if not sympy.isprime(prime):\n",
        "        raise ValueError(\"The input number is not a prime number.\")\n",
        "    p_minus_1 = prime - 1\n",
        "    factors = sympy.factorint(p_minus_1)\n",
        "    return max(factors.keys())\n",
        "\n",
        "\n",
        "def mod_exp(base, exp, mod): # modular exponentiation\n",
        "    base = gmpy2.mpz(base)\n",
        "    exp = gmpy2.mpz(exp)\n",
        "    mod = gmpy2.mpz(mod)\n",
        "    return gmpy2.powmod(base, exp, mod)\n",
        "\n",
        "\n",
        "def find_A(Q, P): # find the non-trivial solution to A^Q = 1 mod P\n",
        "    if Q == 0:\n",
        "        raise ValueError(\"Q must be non-zero.\")\n",
        "    if P <= 1:\n",
        "        raise ValueError(\"P must be greater than 1.\")\n",
        "    A = gmpy2.mpz(2)\n",
        "    while A < P:\n",
        "        if mod_exp(A, Q, P) == 1:\n",
        "            return A\n",
        "        A += 1\n",
        "    raise ValueError(\"No non-trivial solution found.\")\n",
        "\n",
        "\n",
        "def mod_inverse(A, Q): # find the modular inverse of A under modulo Q\n",
        "    A = gmpy2.mpz(A)\n",
        "    Q = gmpy2.mpz(Q)\n",
        "    g, x, y = extended_gcd(A, Q)\n",
        "    if g != 1:\n",
        "        raise ValueError(f\"Modular inverse does not exist for A={A} and Q={Q}\")\n",
        "    else:\n",
        "        return x % Q\n",
        "\n",
        "\n",
        "def extended_gcd(a, b): # Extended Euclidean Algorithm\n",
        "    if a == 0:\n",
        "        return b, 0, 1\n",
        "    else:\n",
        "        g, x1, y1 = extended_gcd(b % a, a)\n",
        "        x = y1 - (b // a) * x1\n",
        "        y = x1\n",
        "        return g, x, y\n",
        "\n",
        "\n",
        "def calculate_V(A, s, P): # Calculate V as A^(-s) mod P\n",
        "    A = gmpy2.mpz(A)\n",
        "    s = gmpy2.mpz(s)\n",
        "    P = gmpy2.mpz(P)\n",
        "    V = gmpy2.powmod(A, -s, P)\n",
        "    return V\n",
        "\n",
        "\n",
        "def hash_function(data): # Hash function\n",
        "    if isinstance(data, str):\n",
        "        data = data.encode('utf-8')\n",
        "    sha256 = hashlib.sha256()\n",
        "    sha256.update(data)\n",
        "    return sha256.hexdigest()"
      ],
      "metadata": {
        "id": "MBi1s__u1UCV"
      },
      "execution_count": 133,
      "outputs": []
    },
    {
      "cell_type": "markdown",
      "source": [
        "##Networking:"
      ],
      "metadata": {
        "id": "duAJ57e11Lpl"
      }
    },
    {
      "cell_type": "markdown",
      "source": [
        "# Alice"
      ],
      "metadata": {
        "id": "e1EH_nj-8D0J"
      }
    },
    {
      "cell_type": "markdown",
      "source": [
        "***Sign:***\n",
        "\n",
        "`M = message to be signed`\n",
        "\n",
        "global:\n",
        "```\n",
        "P = a prime number     # typically 1024-bit\n",
        "Q = a factor of P-1    # typically 160-bit\n",
        "A = a^Q === 1 mod P\n",
        "```\n",
        "private key:\n",
        "`s = random 0 < s < Q`\n",
        "\n",
        "public verification key:\n",
        "`V = A^(-s) mod P`\n",
        "\n",
        "for signing:\n",
        "```\n",
        "r = random 0 < r < Q\n",
        "x = A^r mod P\n",
        "e = Hash(M||x)\n",
        "y = (r+se)modQ\n",
        "```\n",
        "\n",
        "Send: ` Message, M | Signature(e , y) `\n"
      ],
      "metadata": {
        "id": "yWcqb4869o9m"
      }
    },
    {
      "cell_type": "markdown",
      "source": [
        "### generate parameters:"
      ],
      "metadata": {
        "id": "fX_Omqjf92_p"
      }
    },
    {
      "cell_type": "code",
      "source": [
        "M = 'This is a test message with my credit card digits.' # binary msg\n",
        "\n",
        "# P = randprime(2**1023, 2**1024 - 1)\n",
        "P = randprime(2**34, 2**35 - 1)                # typicalyy 1024-bit number\n",
        "Q = get_factor_of_prime_minus_one(P)           # typically 160-bit number\n",
        "A = find_A(Q, P)\n",
        "s = random.randint(1, Q-1)\n",
        "V = calculate_V(A, s, P)\n",
        "r = random.randint(1, Q-1)\n",
        "x = mod_exp(A, r, P)\n",
        "e = hash_function(str(M) + str(x))\n",
        "y = (r + s*int(e, 16)) % Q"
      ],
      "metadata": {
        "id": "O3TIt1yZ9yoE"
      },
      "execution_count": 165,
      "outputs": []
    },
    {
      "cell_type": "markdown",
      "source": [
        "### parameters printing:"
      ],
      "metadata": {
        "id": "h3P4i8gO-sRH"
      }
    },
    {
      "cell_type": "code",
      "source": [
        "print(f'P = {P}')\n",
        "print(f'Q = {Q}')\n",
        "print(f'A = {A}')\n",
        "print(f's = {s}')\n",
        "print(f'V = {V}')\n",
        "print(f'r = {r}')\n",
        "print(f'x = {x}')\n",
        "print(f'e = {e}')\n",
        "print(f'y = {y}')"
      ],
      "metadata": {
        "colab": {
          "base_uri": "https://localhost:8080/"
        },
        "id": "sCDgajYD-rPB",
        "outputId": "cb5ed3a0-8699-4b26-b98c-57e187d63f6c"
      },
      "execution_count": 166,
      "outputs": [
        {
          "output_type": "stream",
          "name": "stdout",
          "text": [
            "P = 22176466381\n",
            "Q = 1130299\n",
            "A = 13765\n",
            "s = 372241\n",
            "V = 4489724894\n",
            "r = 176210\n",
            "x = 21922909765\n",
            "e = 012aa59ee12f0fcce83677e78208061b6ffed47d7fd72b165c9ae0a5ff6d9324\n",
            "y = 271599\n"
          ]
        }
      ]
    },
    {
      "cell_type": "markdown",
      "source": [
        "# Bob"
      ],
      "metadata": {
        "id": "zmBe8fnm8aOl"
      }
    },
    {
      "cell_type": "markdown",
      "source": [
        "\n",
        "*** Verification:***\n",
        "  \n",
        "Received:\n",
        "`(M,  e,  y)`\n",
        "\n",
        "Known publicly:\n",
        "`(A,  P,  Q,  V)`\n",
        "\n",
        "compute:\n",
        "* `x' = (A^y * V^e) mod P`\n",
        "* `e' = H( M || x' )`"
      ],
      "metadata": {
        "id": "fGQmWiV583qi"
      }
    },
    {
      "cell_type": "markdown",
      "source": [
        "### print what recived and known:"
      ],
      "metadata": {
        "id": "hLKQ1B42_EPh"
      }
    },
    {
      "cell_type": "code",
      "source": [
        "print(\"   Recived form alice:\\n\")\n",
        "print(f'M = {M}')\n",
        "print(f'e = {e}')\n",
        "print(f'y = {y}')\n",
        "print(\"\\n\\n  known public parameters:\\n\")\n",
        "print(f'A = {A}')\n",
        "print(f'P = {P}')\n",
        "print(f'Q = {Q}')\n",
        "print(f'V = {V}')"
      ],
      "metadata": {
        "colab": {
          "base_uri": "https://localhost:8080/"
        },
        "id": "X6RUQcqg_Hi7",
        "outputId": "bba2210c-2fa4-4951-a190-6ea447d8131c"
      },
      "execution_count": 140,
      "outputs": [
        {
          "output_type": "stream",
          "name": "stdout",
          "text": [
            "   Recived form alice:\n",
            "\n",
            "M = This is a test message with my credit card digits.\n",
            "e = e3f2a9f174f878c7ce5bea8a1f7fcf1a7b161fb92928192874e5335cb9e83c77\n",
            "y = 9552\n",
            "\n",
            "\n",
            "  known public parameters:\n",
            "\n",
            "A = 269349\n",
            "P = 2240533961\n",
            "Q = 18311\n",
            "V = 2045590066\n"
          ]
        }
      ]
    },
    {
      "cell_type": "markdown",
      "source": [
        "### compute:"
      ],
      "metadata": {
        "id": "zQwXB-0JAHCf"
      }
    },
    {
      "cell_type": "code",
      "source": [
        "Ay = mod_exp(A, y, P)\n",
        "Ve = mod_exp(V, int(e, 16), P)\n",
        "AyVe = (Ay * Ve) % P\n",
        "x_tag = AyVe\n",
        "\n",
        "print(f\"Alice`s x value is {x} and Bob`s x' value is {x_tag}\")\n",
        "if(x == x_tag):\n",
        "  print(\"so, (x = x')\")"
      ],
      "metadata": {
        "id": "e75yv07f8eAH",
        "colab": {
          "base_uri": "https://localhost:8080/"
        },
        "outputId": "4ca5beff-5dd6-4428-a250-5cd5e82503b6"
      },
      "execution_count": 167,
      "outputs": [
        {
          "output_type": "stream",
          "name": "stdout",
          "text": [
            "Alice`s x value is 21922909765 and Bob`s x' value is 21922909765\n",
            "so, (x = x')\n"
          ]
        }
      ]
    },
    {
      "cell_type": "markdown",
      "source": [
        "Technically, Bob should check if his computed x' is equal to Alice's x.\n",
        "\n",
        "`(x' == x)` But he doen't know Alice`s x value beacuse it private.\n",
        "\n",
        "So, Bob will Compute the e` by the hash function value and compare it with Alice's e value.\n",
        "\n",
        "`e' = H( M || x' )`"
      ],
      "metadata": {
        "id": "uVaJUZte8JEp"
      }
    },
    {
      "cell_type": "code",
      "source": [
        "e_tag = hash_function(str(M) + str(x_tag))\n",
        "\n",
        "print(f\"Alice`s e = {e}\")\n",
        "print(f\" Bob`s e' = {e_tag}\\n\")\n",
        "\n",
        "if(e == e_tag):\n",
        "  print(\"so, (e = e')\")\n",
        "  print(\"and it means the message M was really signed by Alice.\")\n",
        "else:\n",
        "  print(\"so, (e != e')\")\n",
        "  print(\"and it means the message M was not signed by Alice or it was alerted by someone in the way.\")\n"
      ],
      "metadata": {
        "colab": {
          "base_uri": "https://localhost:8080/"
        },
        "id": "wWpKNn9Z8Iy5",
        "outputId": "c2bb63f5-a243-478c-c69c-d0d0a7b56499"
      },
      "execution_count": 168,
      "outputs": [
        {
          "output_type": "stream",
          "name": "stdout",
          "text": [
            "Alice`s e = 012aa59ee12f0fcce83677e78208061b6ffed47d7fd72b165c9ae0a5ff6d9324\n",
            " Bob`s e' = 012aa59ee12f0fcce83677e78208061b6ffed47d7fd72b165c9ae0a5ff6d9324\n",
            "\n",
            "so, (e = e')\n",
            "and it means the message M was really signed by Alice.\n"
          ]
        }
      ]
    },
    {
      "cell_type": "markdown",
      "source": [],
      "metadata": {
        "id": "qoa3KoyyDt0X"
      }
    }
  ]
}