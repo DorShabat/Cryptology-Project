{
  "nbformat": 4,
  "nbformat_minor": 0,
  "metadata": {
    "colab": {
      "provenance": [],
      "authorship_tag": "ABX9TyPY0BM4BnFBxyez396wQQD6",
      "include_colab_link": true
    },
    "kernelspec": {
      "name": "python3",
      "display_name": "Python 3"
    },
    "language_info": {
      "name": "python"
    }
  },
  "cells": [
    {
      "cell_type": "markdown",
      "metadata": {
        "id": "view-in-github",
        "colab_type": "text"
      },
      "source": [
        "<a href=\"https://colab.research.google.com/github/DorShabat/Cryptology-Project/blob/main/Schnorr_signature.ipynb\" target=\"_parent\"><img src=\"https://colab.research.google.com/assets/colab-badge.svg\" alt=\"Open In Colab\"/></a>"
      ]
    },
    {
      "cell_type": "markdown",
      "source": [
        "# Schnorr signature"
      ],
      "metadata": {
        "id": "4rcMWEWKFK3w"
      }
    },
    {
      "cell_type": "markdown",
      "source": [
        "by https://www.youtube.com/watch?v=mV9hXEFUB6A&ab_channel=Theoretically"
      ],
      "metadata": {
        "id": "VtMMOEQxxyzv"
      }
    },
    {
      "cell_type": "markdown",
      "source": [
        "## pips:"
      ],
      "metadata": {
        "id": "2YIJaptr08dJ"
      }
    },
    {
      "cell_type": "code",
      "execution_count": 2,
      "metadata": {
        "id": "s1odet-PUHKc"
      },
      "outputs": [],
      "source": [
        "%%capture\n",
        "!pip install cryptography"
      ]
    },
    {
      "cell_type": "markdown",
      "source": [],
      "metadata": {
        "id": "xp0I6pS10-1t"
      }
    },
    {
      "cell_type": "markdown",
      "source": [
        "##imports:"
      ],
      "metadata": {
        "id": "DIyLVeMS_3qh"
      }
    },
    {
      "cell_type": "code",
      "source": [
        "import numpy as np\n",
        "import sympy\n",
        "import os\n",
        "import random\n",
        "import hashlib\n",
        "from sympy.ntheory.generate import randprime"
      ],
      "metadata": {
        "id": "l8slg_az_6mI"
      },
      "execution_count": 1,
      "outputs": []
    },
    {
      "cell_type": "markdown",
      "source": [
        "## functions for generating the mathematical parameters:"
      ],
      "metadata": {
        "id": "3lEpWzCL0_8n"
      }
    },
    {
      "cell_type": "code",
      "source": [
        "def get_biggest_factor_of_prime_minus_one(prime):\n",
        "    if not sympy.isprime(prime): # Check if the input is a prime number\n",
        "        raise ValueError(\"The input number is not a prime number.\")\n",
        "    p_minus_1 = prime - 1\n",
        "    factors = sympy.factorint(p_minus_1) # Find a factor of P - 1\n",
        "    return max(factors.keys()) # Return biggest factor of P - 1\n",
        "\n",
        "\n",
        "def mod_exp(base, exp, mod):\n",
        "    \"\"\"\n",
        "    Function to perform modular exponentiation.\n",
        "    It returns (base^exp) % mod.\n",
        "    \"\"\"\n",
        "    result = 1\n",
        "    base = base % mod\n",
        "    while exp > 0:\n",
        "        if exp % 2 == 1:  # If exp is odd, multiply base with result\n",
        "            result = (result * base) % mod\n",
        "        exp = exp >> 1    # exp = exp // 2\n",
        "        base = (base * base) % mod  # base = base^2\n",
        "    return result\n",
        "\n",
        "def find_a(Q, P):\n",
        "    \"\"\"\n",
        "    Function to find a non-trivial A such that A^Q ≡ 1 (mod P).\n",
        "    \"\"\"\n",
        "    if Q == 0:\n",
        "        raise ValueError(\"Q must be non-zero.\")\n",
        "    if P <= 1:\n",
        "        raise ValueError(\"P must be greater than 1.\")\n",
        "\n",
        "    A = 2\n",
        "    while A < P:\n",
        "        if mod_exp(A, Q, P) == 1:\n",
        "            return A\n",
        "        A += 1\n",
        "\n",
        "    raise ValueError(\"No non-trivial solution found.\")\n",
        "\n",
        "def mod_inverse(A, Q):\n",
        "    \"\"\"\n",
        "    Function to find the modular inverse of A under modulo Q using the Extended Euclidean Algorithm.\n",
        "    \"\"\"\n",
        "    def extended_gcd(a, b):\n",
        "        if a == 0:\n",
        "            return b, 0, 1\n",
        "        gcd, x1, y1 = extended_gcd(b % a, a)\n",
        "        x = y1 - (b // a) * x1\n",
        "        y = x1\n",
        "        return gcd, x, y\n",
        "\n",
        "    gcd, x, y = extended_gcd(A, Q)\n",
        "    if gcd != 1:\n",
        "        raise ValueError(f\"No modular inverse exists for A = {A} and Q = {Q}\")\n",
        "    else:\n",
        "        return x % Q\n",
        "\n",
        "def compute_V(A, s, Q):\n",
        "    \"\"\"\n",
        "    Function to compute V such that V = (A^(-s)) mod Q.\n",
        "    \"\"\"\n",
        "    A_inv = mod_inverse(A, Q)\n",
        "    V = mod_exp(A_inv, s, Q)\n",
        "    return V\n",
        "\n",
        "def hash_function(data):\n",
        "    \"\"\"\n",
        "    Function to perform SHA-256 hashing.\n",
        "        Parameters:\n",
        "    data (str): The input data to hash.\n",
        "        Returns:\n",
        "    str: The hexadecimal representation of the SHA-256 hash of the input data.\n",
        "    \"\"\"\n",
        "    # Ensure the input data is in bytes\n",
        "    if isinstance(data, str):\n",
        "        data = data.encode('utf-8')\n",
        "    # Create a new SHA-256 hash object\n",
        "    sha256 = hashlib.sha256()\n",
        "    # Update the hash object with the data\n",
        "    sha256.update(data)\n",
        "    # Return the hexadecimal representation of the hash\n",
        "    return sha256.hexdigest()"
      ],
      "metadata": {
        "id": "MBi1s__u1UCV"
      },
      "execution_count": 2,
      "outputs": []
    },
    {
      "cell_type": "markdown",
      "source": [
        "##Networking:"
      ],
      "metadata": {
        "id": "duAJ57e11Lpl"
      }
    },
    {
      "cell_type": "markdown",
      "source": [
        "# Alice"
      ],
      "metadata": {
        "id": "e1EH_nj-8D0J"
      }
    },
    {
      "cell_type": "markdown",
      "source": [
        "***Sign:***\n",
        "\n",
        "`M = message to be signed`\n",
        "\n",
        "global:\n",
        "```\n",
        "P = a prime number     # typically 1024-bit\n",
        "Q = a factor of P-1    # typically 160-bit\n",
        "A = a^Q === 1 mod P\n",
        "```\n",
        "private key:\n",
        "`s = random 0 < s < Q`\n",
        "\n",
        "public key:\n",
        "`V = a^(-s) mod Q`\n",
        "\n",
        "for signing:\n",
        "```\n",
        "r = random 0 < r < Q\n",
        "x = A^r mod P\n",
        "e = Hash(M||x)\n",
        "y = (r+se)modQ\n",
        "```\n",
        "\n",
        "Send: ` Message, M | Signature(e , y) `\n"
      ],
      "metadata": {
        "id": "yWcqb4869o9m"
      }
    },
    {
      "cell_type": "markdown",
      "source": [
        "### generate parameters:"
      ],
      "metadata": {
        "id": "fX_Omqjf92_p"
      }
    },
    {
      "cell_type": "code",
      "source": [
        "M = b'This is a test message with my credit card digits.' # binary msg\n",
        "\n",
        "P = randprime(10000000, 20000000) # rand a prime number.\n",
        "Q = get_biggest_factor_of_prime_minus_one(P)\n",
        "A = find_a(Q, P)\n",
        "s = random.randint(0, Q)\n",
        "V = compute_V(A, s, Q)\n",
        "r = random.randint(0, Q)\n",
        "x = mod_exp(A, r, P)\n",
        "e = hash_function(str(M) + str(x))[:10]\n",
        "y = (r + s*int(e, 16)) % Q"
      ],
      "metadata": {
        "id": "O3TIt1yZ9yoE"
      },
      "execution_count": 3,
      "outputs": []
    },
    {
      "cell_type": "markdown",
      "source": [
        "### hard coded:"
      ],
      "metadata": {
        "id": "h0H050x_9zoe"
      }
    },
    {
      "cell_type": "code",
      "source": [
        "M = b'This is a test message with my credit card digits.' # binary msg\n",
        "\n",
        "P = 17565463\n",
        "Q = 51361\n",
        "A = 169\n",
        "s = 37613\n",
        "V = 7299\n",
        "r = 41044\n",
        "x = 1215921\n",
        "e = hash_function(str(M) + str(x))[:50]\n",
        "y = 26752\n",
        "\n",
        "##sending to Bob......"
      ],
      "metadata": {
        "id": "nIaw9Dwg8Day"
      },
      "execution_count": 20,
      "outputs": []
    },
    {
      "cell_type": "markdown",
      "source": [
        "### parameters printing:"
      ],
      "metadata": {
        "id": "h3P4i8gO-sRH"
      }
    },
    {
      "cell_type": "code",
      "source": [
        "print(f'P = {P}')\n",
        "print(f'Q = {Q}')\n",
        "print(f'A = {A}')\n",
        "print(f's = {s}')\n",
        "print(f'V = {V}')\n",
        "print(f'r = {r}')\n",
        "print(f'x = {x}')\n",
        "print(f'e = {e}')\n",
        "print(f'y = {y}')"
      ],
      "metadata": {
        "colab": {
          "base_uri": "https://localhost:8080/"
        },
        "id": "sCDgajYD-rPB",
        "outputId": "d775b78c-fcd8-4807-d17d-562f50f64775"
      },
      "execution_count": 21,
      "outputs": [
        {
          "output_type": "stream",
          "name": "stdout",
          "text": [
            "P = 17565463\n",
            "Q = 51361\n",
            "A = 169\n",
            "s = 37613\n",
            "V = 7299\n",
            "r = 41044\n",
            "x = 1215921\n",
            "e = 545ff80658331b4c4043ed4ffdec25b0fb3cf17e7308e11704\n",
            "y = 26752\n"
          ]
        }
      ]
    },
    {
      "cell_type": "markdown",
      "source": [
        "# Bob"
      ],
      "metadata": {
        "id": "zmBe8fnm8aOl"
      }
    },
    {
      "cell_type": "markdown",
      "source": [
        "\n",
        "*** Verification:***\n",
        "  \n",
        "Received:\n",
        "`(M,  e,  y)`\n",
        "\n",
        "Known publicly:\n",
        "`(A,  P,  Q,  V)`\n",
        "\n",
        "compute: `x' = (A^y * V^e) mod P`"
      ],
      "metadata": {
        "id": "fGQmWiV583qi"
      }
    },
    {
      "cell_type": "markdown",
      "source": [
        "### print what recived and known:"
      ],
      "metadata": {
        "id": "hLKQ1B42_EPh"
      }
    },
    {
      "cell_type": "code",
      "source": [
        "print(\"   Recived form alice:\\n\")\n",
        "print(f'M = {M}')\n",
        "print(f'e = {e}')\n",
        "print(f'y = {y}')\n",
        "print(\"\\n\\n  known public parameters:\\n\")\n",
        "print(f'A = {A}')\n",
        "print(f'P = {P}')\n",
        "print(f'Q = {Q}')\n",
        "print(f'V = {V}')"
      ],
      "metadata": {
        "colab": {
          "base_uri": "https://localhost:8080/"
        },
        "id": "X6RUQcqg_Hi7",
        "outputId": "9c4ebd15-6a29-4871-dbce-f0ea711fafa7"
      },
      "execution_count": 22,
      "outputs": [
        {
          "output_type": "stream",
          "name": "stdout",
          "text": [
            "   Recived form alice:\n",
            "\n",
            "M = b'This is a test message with my credit card digits.'\n",
            "e = 545ff80658331b4c4043ed4ffdec25b0fb3cf17e7308e11704\n",
            "y = 26752\n",
            "\n",
            "\n",
            "  known public parameters:\n",
            "\n",
            "A = 169\n",
            "P = 17565463\n",
            "Q = 51361\n",
            "V = 7299\n"
          ]
        }
      ]
    },
    {
      "cell_type": "markdown",
      "source": [
        "### compute:"
      ],
      "metadata": {
        "id": "zQwXB-0JAHCf"
      }
    },
    {
      "cell_type": "code",
      "source": [
        "## recived msg form alice...\n",
        "\n",
        "Ay = np.power(A, y)\n",
        "Ve = np.power(V, int(e, 16))\n",
        "AyVe = np.multiply(Ay, Ve)\n",
        "\n",
        "x_tag = np.mod(AyVe, P)\n",
        "\n",
        "print(Ay)\n",
        "print(Ve)\n",
        "print(AyVe)\n",
        "print(f'\\nx\\'= {x_tag}')\n",
        "\n",
        "print(f'x = {x}\\n')\n",
        "\n",
        "\n",
        "e_tag = hash_function(str(M) + str(x_tag))[:50]\n",
        "print(f'e\\'= {e_tag}')\n",
        "print(f'e = {e}')\n",
        "\n"
      ],
      "metadata": {
        "id": "e75yv07f8eAH"
      },
      "execution_count": null,
      "outputs": []
    }
  ]
}