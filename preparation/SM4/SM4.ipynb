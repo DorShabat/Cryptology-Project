{
  "nbformat": 4,
  "nbformat_minor": 0,
  "metadata": {
    "colab": {
      "provenance": [],
      "authorship_tag": "ABX9TyP/7Vnbe/p6qdB2pf8qkcr1",
      "include_colab_link": true
    },
    "kernelspec": {
      "name": "python3",
      "display_name": "Python 3"
    },
    "language_info": {
      "name": "python"
    }
  },
  "cells": [
    {
      "cell_type": "markdown",
      "metadata": {
        "id": "view-in-github",
        "colab_type": "text"
      },
      "source": [
        "<a href=\"https://colab.research.google.com/github/DorShabat/Cryptology-Project/blob/main/SM4/SM4.ipynb\" target=\"_parent\"><img src=\"https://colab.research.google.com/assets/colab-badge.svg\" alt=\"Open In Colab\"/></a>"
      ]
    },
    {
      "cell_type": "markdown",
      "source": [
        "# SM4"
      ],
      "metadata": {
        "id": "CfUqowtGjkp2"
      }
    },
    {
      "cell_type": "markdown",
      "source": [
        "## Constants\n"
      ],
      "metadata": {
        "id": "bHIs6oE0mjqY"
      }
    },
    {
      "cell_type": "code",
      "source": [
        "SBOX = [\n",
        "    0xd6, 0x90, 0xe9, 0xfe, 0xcc, 0xe1, 0x3d, 0xb7, 0x16, 0xb6, 0x14, 0xc2, 0x28, 0xfb, 0x2c, 0x05,\n",
        "    0x2b, 0x67, 0x9a, 0x76, 0x2a, 0xbe, 0x04, 0xc3, 0xaa, 0x44, 0x13, 0x26, 0x49, 0x86, 0x06, 0x99,\n",
        "    0x9c, 0x42, 0x50, 0xf4, 0x91, 0xef, 0x98, 0x7a, 0x33, 0x54, 0x0b, 0x43, 0xed, 0xcf, 0xac, 0x62,\n",
        "    0xe4, 0xb3, 0x1c, 0xa9, 0xc9, 0x08, 0xe8, 0x95, 0x80, 0xdf, 0x94, 0xfa, 0x75, 0x8f, 0x3f, 0xa6,\n",
        "    0x47, 0x07, 0xa7, 0xfc, 0xf3, 0x73, 0x17, 0xba, 0x83, 0x59, 0x3c, 0x19, 0xe6, 0x85, 0x4f, 0xa8,\n",
        "    0x68, 0x6b, 0x81, 0xb2, 0x71, 0x64, 0xda, 0x8b, 0xf8, 0xeb, 0x0f, 0x4b, 0x70, 0x56, 0x9d, 0x35,\n",
        "    0x1e, 0x24, 0x0e, 0x5e, 0x63, 0x58, 0xd1, 0xa2, 0x25, 0x22, 0x7c, 0x3b, 0x01, 0x21, 0x78, 0x87,\n",
        "    0xd4, 0x00, 0x46, 0x57, 0x9f, 0xd3, 0x27, 0x52, 0x4c, 0x36, 0x02, 0xe7, 0xa0, 0xc4, 0xc8, 0x9e,\n",
        "    0xea, 0xbf, 0x8a, 0xd2, 0x40, 0xc7, 0x38, 0xb5, 0xa3, 0xf7, 0xf2, 0xce, 0xf9, 0x61, 0x15, 0xa1,\n",
        "    0xe0, 0xae, 0x5d, 0xa4, 0x9b, 0x34, 0x1a, 0x55, 0xad, 0x93, 0x32, 0x30, 0xf5, 0x8c, 0xb1, 0xe3,\n",
        "    0x1d, 0xf6, 0xe2, 0x2e, 0x82, 0x66, 0xca, 0x60, 0xc0, 0x29, 0x23, 0xab, 0x0d, 0x53, 0x4e, 0x6f,\n",
        "    0xd5, 0xdb, 0x37, 0x45, 0xde, 0xfd, 0x8e, 0x2f, 0x03, 0xff, 0x6a, 0x72, 0x6d, 0x6c, 0x5b, 0x51,\n",
        "    0x8d, 0x1b, 0xaf, 0x92, 0xbb, 0xdd, 0xbc, 0x7f, 0x11, 0xd9, 0x5c, 0x41, 0x1f, 0x10, 0x5a, 0xd8,\n",
        "    0x0a, 0xc1, 0x31, 0x88, 0xa5, 0xcd, 0x7b, 0xbd, 0x2d, 0x74, 0xd0, 0x12, 0xb8, 0xe5, 0xb4, 0xb0,\n",
        "    0x89, 0x69, 0x97, 0x4a, 0x0c, 0x96, 0x77, 0x7e, 0x65, 0xb9, 0xf1, 0x09, 0xc5, 0x6e, 0xc6, 0x84,\n",
        "    0x18, 0xf0, 0x7d, 0xec, 0x3a, 0xdc, 0x4d, 0x20, 0x79, 0xee, 0x5f, 0x3e, 0xd7, 0xcb, 0x39, 0x48\n",
        "]\n",
        "\n",
        "FK = [0xa3b1bac6, 0x56aa3350, 0x677d9197, 0xb27022dc]\n",
        "\n",
        "CK = [\n",
        "    0x00070e15, 0x1c232a31, 0x383f464d, 0x545b6269,\n",
        "    0x70777e85, 0x8c939aa1, 0xa8afb6bd, 0xc4cbd2d9,\n",
        "    0xe0e7eef5, 0xfc030a11, 0x181f262d, 0x343b4249,\n",
        "    0x50575e65, 0x6c737a81, 0x888f969d, 0xa4abb2b9,\n",
        "    0xc0c7ced5, 0xdce3eaf1, 0xf8ff060d, 0x141b2229,\n",
        "    0x30373e45, 0x4c535a61, 0x686f767d, 0x848b9299,\n",
        "    0xa0a7aeb5, 0xbcc3cad1, 0xd8dfe6ed, 0xf4fb0209,\n",
        "    0x10171e25, 0x2c333a41, 0x484f565d, 0x646b7279\n",
        "]"
      ],
      "metadata": {
        "id": "aW4H4htsmlkB"
      },
      "execution_count": null,
      "outputs": []
    },
    {
      "cell_type": "markdown",
      "source": [
        "## Functions"
      ],
      "metadata": {
        "id": "IBG98JzflfCf"
      }
    },
    {
      "cell_type": "code",
      "source": [
        "def rotl(x, n):\n",
        "    # Rotate left: shift x to the left by n bits and wrap around the overflowed bits to the right\n",
        "    return ((x << n) & 0xFFFFFFFF) | (x >> (32 - n))\n",
        "\n",
        "def tau(a):\n",
        "    # Non-linear substitution using the S-Box. Each byte of the input is substituted using the S-Box\n",
        "    return [\n",
        "        SBOX[(a >> 24) & 0xFF],  # Substitution for the highest byte\n",
        "        SBOX[(a >> 16) & 0xFF],  # Substitution for the second byte\n",
        "        SBOX[(a >> 8) & 0xFF],   # Substitution for the third byte\n",
        "        SBOX[a & 0xFF]           # Substitution for the lowest byte\n",
        "    ]"
      ],
      "metadata": {
        "id": "HsR64Y4amBuN"
      },
      "execution_count": null,
      "outputs": []
    },
    {
      "cell_type": "markdown",
      "source": [
        "### Key Expantion"
      ],
      "metadata": {
        "id": "8T3rfEAdlyR1"
      }
    },
    {
      "cell_type": "code",
      "source": [
        "def l_key(b):\n",
        "    # Linear transformation for key expansion: rotate and XOR operations\n",
        "    return b ^ rotl(b, 13) ^ rotl(b, 23)\n",
        "\n",
        "def t_key(a):\n",
        "    # Apply tau and then l_key to the input for key expansion\n",
        "    a = tau(a)\n",
        "    result = l_key((a[0] << 24) | (a[1] << 16) | (a[2] << 8) | a[3])\n",
        "    return result\n",
        "\n",
        "def key_expansion(key):\n",
        "    # Key expansion to generate round keys from the original key\n",
        "    MK = [(key[i * 4] << 24) | (key[i * 4 + 1] << 16) | (key[i * 4 + 2] << 8) | key[i * 4 + 3] for i in range(4)]\n",
        "    K = [MK[i] ^ FK[i] for i in range(4)]\n",
        "    rk = []\n",
        "    for i in range(32):\n",
        "        K.append(K[i] ^ t_key(K[i + 1] ^ K[i + 2] ^ K[i + 3] ^ CK[i]))\n",
        "        rk.append(K[-1])\n",
        "    return rk"
      ],
      "metadata": {
        "id": "7CbMMwhjl-Jf"
      },
      "execution_count": null,
      "outputs": []
    },
    {
      "cell_type": "markdown",
      "source": [
        "### Decryption - Encryption"
      ],
      "metadata": {
        "id": "nZ8Lk_iOl1jY"
      }
    },
    {
      "cell_type": "code",
      "source": [
        "def l_b(b):\n",
        "    # Linear transformation: rotate and XOR operations to achieve diffusion\n",
        "    return b ^ rotl(b, 2) ^ rotl(b, 10) ^ rotl(b, 18) ^ rotl(b, 24)\n",
        "\n",
        "def t(a):\n",
        "    # Apply tau and then l_b to the input\n",
        "    a = tau(a)\n",
        "    result = l_b((a[0] << 24) | (a[1] << 16) | (a[2] << 8) | a[3])\n",
        "    return result\n",
        "\n",
        "def sm4_encrypt_block(plaintext, rk):\n",
        "    # Encrypt a single block of plaintext using the round keys\n",
        "    X = [(plaintext[i * 4] << 24) | (plaintext[i * 4 + 1] << 16) | (plaintext[i * 4 + 2] << 8) | plaintext[i * 4 + 3] for i in range(4)]\n",
        "    for i in range(32):\n",
        "        temp = t(X[i + 1] ^ X[i + 2] ^ X[i + 3] ^ rk[i])\n",
        "        X.append(X[i] ^ temp)\n",
        "    ciphertext = [(X[35 - i] >> (24 - j * 8)) & 0xFF for i in range(4) for j in range(4)]\n",
        "    return ciphertext\n",
        "\n",
        "def sm4_decrypt_block(ciphertext, rk):\n",
        "    # Decrypt a single block of ciphertext using the round keys\n",
        "    return sm4_encrypt_block(ciphertext, rk[::-1])\n",
        "\n",
        "\n"
      ],
      "metadata": {
        "id": "WGqev92nmnsr"
      },
      "execution_count": null,
      "outputs": []
    },
    {
      "cell_type": "markdown",
      "source": [
        "### Main example - need to be deleted"
      ],
      "metadata": {
        "id": "bl8Aw9ROmNk_"
      }
    },
    {
      "cell_type": "code",
      "source": [
        "# Example usage:\n",
        "key = [0x01, 0x23, 0x45, 0x67, 0x89, 0xab, 0xcd, 0xef, 0xfe, 0xdc, 0xba, 0x98, 0x76, 0x54, 0x32, 0x10]\n",
        "plaintext = [0x01, 0x23, 0x45, 0x67, 0x89, 0xab, 0xcd, 0xef, 0xfe, 0xdc, 0xba, 0x98, 0x76, 0x54, 0x32, 0x10]\n",
        "# cipher text should be 68 1E DF 34 D2 06 96 5E 86 B3 E9 4F 53 6E 42 46\n",
        "rk = key_expansion(key)\n",
        "ciphertext = sm4_encrypt_block(plaintext, rk)\n",
        "decrypted_plaintext = sm4_decrypt_block(ciphertext, rk)\n",
        "\n",
        "print(\"Plaintext:\", ' '.join([f'{x:02X}' for x in plaintext]))\n",
        "print(\"Ciphertext:\", ' '.join([f'{x:02X}' for x in ciphertext]))\n",
        "print(\"Decrypted Plaintext:\", ' '.join([f'{x:02X}' for x in decrypted_plaintext]))"
      ],
      "metadata": {
        "id": "5EdO1FZtmR0i",
        "outputId": "151e55a7-3136-4785-b3b8-6d0103f6ec77",
        "colab": {
          "base_uri": "https://localhost:8080/"
        }
      },
      "execution_count": null,
      "outputs": [
        {
          "output_type": "stream",
          "name": "stdout",
          "text": [
            "Plaintext: 01 23 45 67 89 AB CD EF FE DC BA 98 76 54 32 10\n",
            "Ciphertext: 68 1E DF 34 D2 06 96 5E 86 B3 E9 4F 53 6E 42 46\n",
            "Decrypted Plaintext: 01 23 45 67 89 AB CD EF FE DC BA 98 76 54 32 10\n"
          ]
        }
      ]
    },
    {
      "cell_type": "markdown",
      "source": [
        "# Start"
      ],
      "metadata": {
        "id": "_82CLPWkp4p7"
      }
    },
    {
      "cell_type": "markdown",
      "source": [
        "## Fuctions"
      ],
      "metadata": {
        "id": "bZEr-3kMtQpX"
      }
    },
    {
      "cell_type": "code",
      "source": [
        "# Function to split text into 128-bit blocks and pad if necessary\n",
        "# can split into how many bit user wants, block_size = 8 -> 64 bit , 16 -> 128 bit ..\n",
        "def split_into_blocks(text, block_size=16):\n",
        "    # Ensure text length is a multiple of block_size\n",
        "    padding_length = block_size - (len(text) % block_size)\n",
        "    text += bytes([padding_length] * padding_length)\n",
        "    # Split text into blocks\n",
        "    return [text[i:i+block_size] for i in range(0, len(text), block_size)]"
      ],
      "metadata": {
        "id": "7zksijJFtbv6"
      },
      "execution_count": null,
      "outputs": []
    },
    {
      "cell_type": "markdown",
      "source": [
        "### Encrypt Decrypt using sm4"
      ],
      "metadata": {
        "id": "Pgbpjz6-t2DY"
      }
    },
    {
      "cell_type": "code",
      "source": [
        "# Function to encrypt text using ECB mode\n",
        "def sm4_encrypt_ecb(text, key):\n",
        "    rk = key_expansion(key)\n",
        "    blocks = split_into_blocks(text)\n",
        "    ciphertext = []\n",
        "    for block in blocks:\n",
        "        ciphertext_block = sm4_encrypt_block(block, rk)\n",
        "        ciphertext.extend(ciphertext_block)\n",
        "    return ciphertext\n",
        "\n",
        "# Function to decrypt text using ECB mode\n",
        "def sm4_decrypt_ecb(ciphertext, key):\n",
        "    rk = key_expansion(key)\n",
        "    blocks = [ciphertext[i:i+16] for i in range(0, len(ciphertext), 16)]\n",
        "    plaintext = []\n",
        "    for block in blocks:\n",
        "        plaintext_block = sm4_decrypt_block(block, rk)\n",
        "        plaintext.extend(plaintext_block)\n",
        "    # Remove padding\n",
        "    padding_length = plaintext[-1]\n",
        "    return plaintext[:-padding_length]"
      ],
      "metadata": {
        "id": "j_2uQcYjp-6o"
      },
      "execution_count": null,
      "outputs": []
    },
    {
      "cell_type": "markdown",
      "source": [
        "### Example of use"
      ],
      "metadata": {
        "id": "H_6lzps8t-am"
      }
    },
    {
      "cell_type": "code",
      "source": [
        "# Example usage\n",
        "key = [0x01, 0x23, 0x45, 0x67, 0x89, 0xab, 0xcd, 0xef, 0xfe, 0xdc, 0xba, 0x98, 0x76, 0x54, 0x32, 0x10]\n",
        "plaintext = b'This is a longer text that needs to be encrypted using SM4 ECB mode.'\n",
        "\n",
        "ciphertext = sm4_encrypt_ecb(plaintext, key)\n",
        "decrypted_plaintext = sm4_decrypt_ecb(ciphertext, key)\n",
        "\n",
        "print(\"Plaintext:\", ' '.join([f'{x:02X}' for x in plaintext]))\n",
        "print(\"Plaintext:\", plaintext.decode())\n",
        "print(\"Ciphertext:\", ' '.join([f'{x:02X}' for x in ciphertext]))\n",
        "print(\"Decrypted Plaintext:\", ' '.join([f'{x:02X}' for x in decrypted_plaintext]))\n",
        "print(\"Decrypted Plaintext:\", bytes(decrypted_plaintext).decode())"
      ],
      "metadata": {
        "id": "T9L3y64cuBDj",
        "outputId": "11db5a2b-db8d-494d-c8b9-ef94511c05f5",
        "colab": {
          "base_uri": "https://localhost:8080/"
        }
      },
      "execution_count": 33,
      "outputs": [
        {
          "output_type": "stream",
          "name": "stdout",
          "text": [
            "Plaintext: 54 68 69 73 20 69 73 20 61 20 6C 6F 6E 67 65 72 20 74 65 78 74 20 74 68 61 74 20 6E 65 65 64 73 20 74 6F 20 62 65 20 65 6E 63 72 79 70 74 65 64 20 75 73 69 6E 67 20 53 4D 34 20 45 43 42 20 6D 6F 64 65 2E\n",
            "Plaintext: This is a longer text that needs to be encrypted using SM4 ECB mode.\n",
            "Ciphertext: 0C 0B 36 56 EF A7 7E 41 BB C1 34 72 F4 B0 DC 33 CF FD 12 76 06 E2 EC 79 A1 38 9B A7 0B 21 DE B8 0C 01 67 1C F1 CF 0C 9F 5E F8 2D 25 C2 75 A8 8C 1E CE 9D EB 8F 1D B3 3C 18 04 43 45 76 33 DB 74 9D C5 49 A0 EB 1F 0F 68 2F 82 BC 20 D6 0B 9F DD\n",
            "Decrypted Plaintext: 54 68 69 73 20 69 73 20 61 20 6C 6F 6E 67 65 72 20 74 65 78 74 20 74 68 61 74 20 6E 65 65 64 73 20 74 6F 20 62 65 20 65 6E 63 72 79 70 74 65 64 20 75 73 69 6E 67 20 53 4D 34 20 45 43 42 20 6D 6F 64 65 2E\n",
            "Decrypted Plaintext: This is a longer text that needs to be encrypted using SM4 ECB mode.\n"
          ]
        }
      ]
    }
  ]
}