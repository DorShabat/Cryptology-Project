{
  "nbformat": 4,
  "nbformat_minor": 0,
  "metadata": {
    "colab": {
      "provenance": [],
      "authorship_tag": "ABX9TyNnilXTlJ52dCe6ur6KK2yK",
      "include_colab_link": true
    },
    "kernelspec": {
      "name": "python3",
      "display_name": "Python 3"
    },
    "language_info": {
      "name": "python"
    }
  },
  "cells": [
    {
      "cell_type": "markdown",
      "metadata": {
        "id": "view-in-github",
        "colab_type": "text"
      },
      "source": [
        "<a href=\"https://colab.research.google.com/github/DorShabat/Cryptology-Project/blob/main/ECDH.ipynb\" target=\"_parent\"><img src=\"https://colab.research.google.com/assets/colab-badge.svg\" alt=\"Open In Colab\"/></a>"
      ]
    },
    {
      "cell_type": "markdown",
      "source": [
        "# The Elliptic Curve Diffie-Hellman (ECDH)"
      ],
      "metadata": {
        "id": "JluaAW2IqP_d"
      }
    },
    {
      "cell_type": "markdown",
      "source": [
        "## Define the Elliptic Curve"
      ],
      "metadata": {
        "id": "TeOE_jXPBQsx"
      }
    },
    {
      "cell_type": "markdown",
      "source": [
        "y^2 = x^3 + ax + b mod p\n",
        "\n",
        "\n",
        "G refers to a specific point on the elliptic curve known as the generator point."
      ],
      "metadata": {
        "id": "NCkuXJhhBdrs"
      }
    },
    {
      "cell_type": "code",
      "source": [
        "def mutluply_point_by_scalar_mod_P(point, scalar, P): # point = (x, y)\n",
        "    point_x = (point[0] * scalar) % P\n",
        "    point_y = (point[1] * scalar) % P\n",
        "    point = (point_x, point_y)\n",
        "    return point"
      ],
      "metadata": {
        "id": "R2ruuLSLGLDy"
      },
      "execution_count": null,
      "outputs": []
    },
    {
      "cell_type": "code",
      "source": [
        "# lets choose:\n",
        "a = 2\n",
        "b = 3\n",
        "P = 97 #prime number\n",
        "\n",
        "# We'll pick a generator point G on the curve. For this curve, let's use:\n",
        "G = (3, 6)"
      ],
      "metadata": {
        "id": "eo2CgwrWBSbv"
      },
      "execution_count": null,
      "outputs": []
    },
    {
      "cell_type": "markdown",
      "source": [
        "## Alice"
      ],
      "metadata": {
        "id": "nXYfGtAJ_2dH"
      }
    },
    {
      "cell_type": "code",
      "execution_count": null,
      "metadata": {
        "colab": {
          "base_uri": "https://localhost:8080/"
        },
        "collapsed": true,
        "id": "Qe58GhRfp0t8",
        "outputId": "902f248f-d4ca-4a6f-c7c6-774cb015cb47"
      },
      "outputs": [
        {
          "output_type": "stream",
          "name": "stdout",
          "text": [
            "(18, 36)\n"
          ]
        }
      ],
      "source": [
        "# private key:\n",
        "private_key_a = 6\n",
        "# public key:\n",
        "A = mutluply_point_by_scalar_mod_P(point=G, scalar=private_key_a, P=P)\n",
        "print(A)"
      ]
    },
    {
      "cell_type": "markdown",
      "source": [
        "## Bob"
      ],
      "metadata": {
        "id": "7Q0ZT16O_8Zp"
      }
    },
    {
      "cell_type": "code",
      "source": [
        "# private key : b\n",
        "private_key_b = 7\n",
        "# public key : B = bG\n",
        "B = mutluply_point_by_scalar_mod_P(point=G, scalar=private_key_b, P=P)\n",
        "print(B)"
      ],
      "metadata": {
        "colab": {
          "base_uri": "https://localhost:8080/"
        },
        "id": "smuR0lgx_-I3",
        "outputId": "7e99e30a-82e8-48c2-c623-4ca425e48a8e"
      },
      "execution_count": null,
      "outputs": [
        {
          "output_type": "stream",
          "name": "stdout",
          "text": [
            "(21, 42)\n"
          ]
        }
      ]
    },
    {
      "cell_type": "markdown",
      "source": [
        "## extchanging public keys..."
      ],
      "metadata": {
        "id": "1CVDBxaTER0o"
      }
    },
    {
      "cell_type": "markdown",
      "source": [
        "`S_A = private_key_a * B`\n",
        "\n",
        "`S_B = private_key_b * A`\n",
        "\n",
        "Shared secret: `S_A == S_b`"
      ],
      "metadata": {
        "id": "pUSv7RB3EodY"
      }
    },
    {
      "cell_type": "markdown",
      "source": [
        "## Alice"
      ],
      "metadata": {
        "id": "3W6XYPJwEZzH"
      }
    },
    {
      "cell_type": "code",
      "source": [
        "S_A = mutluply_point_by_scalar_mod_P(point=B, scalar=private_key_a, P=P)\n",
        "print(S_A)"
      ],
      "metadata": {
        "colab": {
          "base_uri": "https://localhost:8080/"
        },
        "id": "0CF4cWlwCsOK",
        "outputId": "acc22531-00dc-44eb-b20e-4e5423b68327"
      },
      "execution_count": null,
      "outputs": [
        {
          "output_type": "stream",
          "name": "stdout",
          "text": [
            "(29, 58)\n"
          ]
        }
      ]
    },
    {
      "cell_type": "markdown",
      "source": [
        "## Bob"
      ],
      "metadata": {
        "id": "s6BEQt5zEa9M"
      }
    },
    {
      "cell_type": "code",
      "source": [
        "S_B = mutluply_point_by_scalar_mod_P(point=A, scalar=private_key_b, P=P)\n",
        "print(S_B)"
      ],
      "metadata": {
        "colab": {
          "base_uri": "https://localhost:8080/"
        },
        "id": "IiJQPFYRF8B4",
        "outputId": "aeca6b5a-0023-49f6-91d1-88377de69da8"
      },
      "execution_count": null,
      "outputs": [
        {
          "output_type": "stream",
          "name": "stdout",
          "text": [
            "(29, 58)\n"
          ]
        }
      ]
    }
  ]
}