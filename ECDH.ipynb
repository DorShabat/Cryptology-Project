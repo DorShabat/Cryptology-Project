{
  "nbformat": 4,
  "nbformat_minor": 0,
  "metadata": {
    "colab": {
      "provenance": [],
      "authorship_tag": "ABX9TyNqb4227oZp2K7Ai/FGR+3O",
      "include_colab_link": true
    },
    "kernelspec": {
      "name": "python3",
      "display_name": "Python 3"
    },
    "language_info": {
      "name": "python"
    }
  },
  "cells": [
    {
      "cell_type": "markdown",
      "metadata": {
        "id": "view-in-github",
        "colab_type": "text"
      },
      "source": [
        "<a href=\"https://colab.research.google.com/github/DorShabat/Cryptology-Project/blob/main/ECDH.ipynb\" target=\"_parent\"><img src=\"https://colab.research.google.com/assets/colab-badge.svg\" alt=\"Open In Colab\"/></a>"
      ]
    },
    {
      "cell_type": "markdown",
      "source": [
        "# The Elliptic Curve Diffie-Hellman (ECDH)"
      ],
      "metadata": {
        "id": "JluaAW2IqP_d"
      }
    },
    {
      "cell_type": "markdown",
      "source": [
        "## Define the Elliptic Curve"
      ],
      "metadata": {
        "id": "TeOE_jXPBQsx"
      }
    },
    {
      "cell_type": "markdown",
      "source": [
        "y^2 = x^3 + ax + b mod p\n",
        "\n",
        "\n",
        "G refers to a specific point on the elliptic curve known as the generator point."
      ],
      "metadata": {
        "id": "NCkuXJhhBdrs"
      }
    },
    {
      "cell_type": "code",
      "source": [
        "P = 6277101735386680763835789423207666416083908700390324961279\n",
        "a = 6277101735386680763835789423207666416083908700390324961276\n",
        "b = 2455155546008943817740293915197451784769108058161191238065\n",
        "Gx = 602046282375688656758213480587526111916698976636884684818\n",
        "Gy = 174050332293622031404857552280219410364023488927386650641\n",
        "G = (Gx, Gy)"
      ],
      "metadata": {
        "id": "525GBBSKDCDh"
      },
      "execution_count": 6,
      "outputs": []
    },
    {
      "cell_type": "code",
      "source": [
        "def mutluply_point_by_scalar_mod_P(point, scalar, P): # point = (x, y)\n",
        "    point_x = (point[0] * scalar) % P\n",
        "    point_y = (point[1] * scalar) % P\n",
        "    point = (point_x, point_y)\n",
        "    return point"
      ],
      "metadata": {
        "id": "R2ruuLSLGLDy"
      },
      "execution_count": 7,
      "outputs": []
    },
    {
      "cell_type": "code",
      "source": [
        "# lets choose:\n",
        "a = 2\n",
        "b = 3\n",
        "P = 97 #prime number\n",
        "\n",
        "# We'll pick a generator point G on the curve. For this curve, let's use:\n",
        "G = (3, 6)"
      ],
      "metadata": {
        "id": "eo2CgwrWBSbv"
      },
      "execution_count": null,
      "outputs": []
    },
    {
      "cell_type": "markdown",
      "source": [
        "## Alice"
      ],
      "metadata": {
        "id": "nXYfGtAJ_2dH"
      }
    },
    {
      "cell_type": "code",
      "execution_count": 8,
      "metadata": {
        "colab": {
          "base_uri": "https://localhost:8080/"
        },
        "collapsed": true,
        "id": "Qe58GhRfp0t8",
        "outputId": "5a65a3b0-769e-47f4-b02a-7f6ce710f328"
      },
      "outputs": [
        {
          "output_type": "stream",
          "name": "stdout",
          "text": [
            "(3612277694254131940549280883525156671500193859821308108908, 1044301993761732188429145313681316462184140933564319903846)\n"
          ]
        }
      ],
      "source": [
        "# private key:\n",
        "private_key_a = 6\n",
        "# public key:\n",
        "A = mutluply_point_by_scalar_mod_P(point=G, scalar=private_key_a, P=P)\n",
        "print(A)"
      ]
    },
    {
      "cell_type": "markdown",
      "source": [
        "## Bob"
      ],
      "metadata": {
        "id": "7Q0ZT16O_8Zp"
      }
    },
    {
      "cell_type": "code",
      "source": [
        "# private key : b\n",
        "private_key_b = 7\n",
        "# public key : B = bG\n",
        "B = mutluply_point_by_scalar_mod_P(point=G, scalar=private_key_b, P=P)\n",
        "print(B)"
      ],
      "metadata": {
        "colab": {
          "base_uri": "https://localhost:8080/"
        },
        "id": "smuR0lgx_-I3",
        "outputId": "71337ceb-3ce4-4734-902a-46337140d362"
      },
      "execution_count": 9,
      "outputs": [
        {
          "output_type": "stream",
          "name": "stdout",
          "text": [
            "(4214323976629820597307494364112682783416892836458192793726, 1218352326055354219834002865961535872548164422491706554487)\n"
          ]
        }
      ]
    },
    {
      "cell_type": "markdown",
      "source": [
        "## extchanging public keys..."
      ],
      "metadata": {
        "id": "1CVDBxaTER0o"
      }
    },
    {
      "cell_type": "markdown",
      "source": [
        "`S_A = private_key_a * B`\n",
        "\n",
        "`S_B = private_key_b * A`\n",
        "\n",
        "Shared secret: `S_A == S_b`"
      ],
      "metadata": {
        "id": "pUSv7RB3EodY"
      }
    },
    {
      "cell_type": "markdown",
      "source": [
        "## Alice"
      ],
      "metadata": {
        "id": "3W6XYPJwEZzH"
      }
    },
    {
      "cell_type": "code",
      "source": [
        "S_A = mutluply_point_by_scalar_mod_P(point=B, scalar=private_key_a, P=P)\n",
        "print(S_A)"
      ],
      "metadata": {
        "colab": {
          "base_uri": "https://localhost:8080/"
        },
        "id": "0CF4cWlwCsOK",
        "outputId": "22b02a07-72ec-4908-9fab-434281c59d8c"
      },
      "execution_count": 10,
      "outputs": [
        {
          "output_type": "stream",
          "name": "stdout",
          "text": [
            "(177536918232200528501808491845431036165722217187856917240, 1033012220945444555168227772561548819205077834559914365643)\n"
          ]
        }
      ]
    },
    {
      "cell_type": "markdown",
      "source": [
        "## Bob"
      ],
      "metadata": {
        "id": "s6BEQt5zEa9M"
      }
    },
    {
      "cell_type": "code",
      "source": [
        "S_B = mutluply_point_by_scalar_mod_P(point=A, scalar=private_key_b, P=P)\n",
        "print(S_B)"
      ],
      "metadata": {
        "colab": {
          "base_uri": "https://localhost:8080/"
        },
        "id": "IiJQPFYRF8B4",
        "outputId": "c2dddaeb-6cb8-4c96-81f6-5287c2b0eae3"
      },
      "execution_count": 11,
      "outputs": [
        {
          "output_type": "stream",
          "name": "stdout",
          "text": [
            "(177536918232200528501808491845431036165722217187856917240, 1033012220945444555168227772561548819205077834559914365643)\n"
          ]
        }
      ]
    },
    {
      "cell_type": "code",
      "source": [
        "print(S_A == S_B)"
      ],
      "metadata": {
        "id": "R3YUHN2NDfZL",
        "outputId": "ecf0845d-4e12-4449-ee64-11b4523a83ef",
        "colab": {
          "base_uri": "https://localhost:8080/"
        }
      },
      "execution_count": 12,
      "outputs": [
        {
          "output_type": "stream",
          "name": "stdout",
          "text": [
            "True\n"
          ]
        }
      ]
    }
  ]
}