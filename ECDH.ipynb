{
  "nbformat": 4,
  "nbformat_minor": 0,
  "metadata": {
    "colab": {
      "provenance": [],
      "authorship_tag": "ABX9TyPdeHWZ7xNw3dk9N2/c5X4z",
      "include_colab_link": true
    },
    "kernelspec": {
      "name": "python3",
      "display_name": "Python 3"
    },
    "language_info": {
      "name": "python"
    }
  },
  "cells": [
    {
      "cell_type": "markdown",
      "metadata": {
        "id": "view-in-github",
        "colab_type": "text"
      },
      "source": [
        "<a href=\"https://colab.research.google.com/github/DorShabat/Cryptology-Project/blob/main/ECDH.ipynb\" target=\"_parent\"><img src=\"https://colab.research.google.com/assets/colab-badge.svg\" alt=\"Open In Colab\"/></a>"
      ]
    },
    {
      "cell_type": "code",
      "source": [
        "%%capture\n",
        "!pip install cryptography\n",
        "!pip install cryptography.hazmat.primitives.kdf.hkdf"
      ],
      "metadata": {
        "id": "30Ta422T_FXh"
      },
      "execution_count": 20,
      "outputs": []
    },
    {
      "cell_type": "markdown",
      "source": [
        "# The Elliptic Curve Diffie-Hellman (ECDH)"
      ],
      "metadata": {
        "id": "JluaAW2IqP_d"
      }
    },
    {
      "cell_type": "markdown",
      "source": [
        "## Define the Elliptic Curve"
      ],
      "metadata": {
        "id": "TeOE_jXPBQsx"
      }
    },
    {
      "cell_type": "markdown",
      "source": [
        "y^2 = x^3 + ax + b mod p\n",
        "\n",
        "\n",
        "G refers to a specific point on the elliptic curve known as the generator point."
      ],
      "metadata": {
        "id": "NCkuXJhhBdrs"
      }
    },
    {
      "cell_type": "code",
      "source": [
        "P = 6277101735386680763835789423207666416083908700390324961279\n",
        "a = 6277101735386680763835789423207666416083908700390324961276\n",
        "b = 2455155546008943817740293915197451784769108058161191238065\n",
        "Gx = 602046282375688656758213480587526111916698976636884684818\n",
        "Gy = 174050332293622031404857552280219410364023488927386650641\n",
        "G = (Gx, Gy)"
      ],
      "metadata": {
        "id": "525GBBSKDCDh"
      },
      "execution_count": 46,
      "outputs": []
    },
    {
      "cell_type": "code",
      "source": [
        "def multiply_point_by_scalar_mod_P(point, scalar, P, a):\n",
        "    \"\"\"\n",
        "    Multiplies a point on an elliptic curve by a scalar using the double-and-add algorithm.\n",
        "\n",
        "    Parameters:\n",
        "    point (tuple): The point on the elliptic curve (x, y).\n",
        "    scalar (int): The scalar to multiply the point by.\n",
        "    P (int): The prime order of the finite field.\n",
        "    a (int): The coefficient 'a' in the elliptic curve equation y^2 = x^3 + ax + b.\n",
        "\n",
        "    Returns:\n",
        "    tuple: The resulting point after multiplication.\n",
        "    \"\"\"\n",
        "    def point_addition(P1, P2, P, a):\n",
        "        if P1 == (None, None):\n",
        "            return P2\n",
        "        if P2 == (None, None):\n",
        "            return P1\n",
        "        if P1 == P2:\n",
        "            return point_doubling(P1, P, a)\n",
        "\n",
        "        x1, y1 = P1\n",
        "        x2, y2 = P2\n",
        "\n",
        "        if x1 == x2 and (y1 + y2) % P == 0:\n",
        "            return (None, None)\n",
        "\n",
        "        m = (y2 - y1) * pow(x2 - x1, -1, P) % P\n",
        "        x3 = (m * m - x1 - x2) % P\n",
        "        y3 = (m * (x1 - x3) - y1) % P\n",
        "\n",
        "        return (x3, y3)\n",
        "\n",
        "    def point_doubling(P1, P, a):\n",
        "        if P1 == (None, None):\n",
        "            return (None, None)\n",
        "\n",
        "        x1, y1 = P1\n",
        "\n",
        "        m = (3 * x1 * x1 + a) * pow(2 * y1, -1, P) % P\n",
        "        x3 = (m * m - 2 * x1) % P\n",
        "        y3 = (m * (x1 - x3) - y1) % P\n",
        "\n",
        "        return (x3, y3)\n",
        "\n",
        "    result = (None, None)\n",
        "    addend = point\n",
        "\n",
        "    while scalar:\n",
        "        if scalar & 1:\n",
        "            result = point_addition(result, addend, P, a)\n",
        "        addend = point_doubling(addend, P, a)\n",
        "        scalar >>= 1\n",
        "\n",
        "    return result"
      ],
      "metadata": {
        "id": "R2ruuLSLGLDy"
      },
      "execution_count": 3,
      "outputs": []
    },
    {
      "cell_type": "code",
      "source": [
        "# lets choose:\n",
        "a = 2\n",
        "b = 3\n",
        "P = 97 #prime number\n",
        "\n",
        "# We'll pick a generator point G on the curve. For this curve, let's use:\n",
        "G = (3, 6)"
      ],
      "metadata": {
        "id": "eo2CgwrWBSbv"
      },
      "execution_count": 39,
      "outputs": []
    },
    {
      "cell_type": "markdown",
      "source": [
        "## Alice"
      ],
      "metadata": {
        "id": "nXYfGtAJ_2dH"
      }
    },
    {
      "cell_type": "code",
      "execution_count": 40,
      "metadata": {
        "colab": {
          "base_uri": "https://localhost:8080/"
        },
        "collapsed": true,
        "id": "Qe58GhRfp0t8",
        "outputId": "70683d64-b9fd-4784-c8b6-7ce8f4da100c"
      },
      "outputs": [
        {
          "output_type": "stream",
          "name": "stdout",
          "text": [
            "(3, 6)\n"
          ]
        }
      ],
      "source": [
        "# private key:\n",
        "private_key_a = 6\n",
        "# public key:\n",
        "A = multiply_point_by_scalar_mod_P(point=G, scalar=private_key_a, P=P, a=a)\n",
        "print(A)"
      ]
    },
    {
      "cell_type": "markdown",
      "source": [
        "## Bob"
      ],
      "metadata": {
        "id": "7Q0ZT16O_8Zp"
      }
    },
    {
      "cell_type": "code",
      "source": [
        "# private key : b\n",
        "private_key_b = 7\n",
        "# public key : B = bG\n",
        "B = multiply_point_by_scalar_mod_P(point=G, scalar=private_key_b, P=P, a=a)\n",
        "print(B)"
      ],
      "metadata": {
        "colab": {
          "base_uri": "https://localhost:8080/"
        },
        "id": "smuR0lgx_-I3",
        "outputId": "f107a315-4c57-4454-f9da-42a06593527d"
      },
      "execution_count": 41,
      "outputs": [
        {
          "output_type": "stream",
          "name": "stdout",
          "text": [
            "(80, 10)\n"
          ]
        }
      ]
    },
    {
      "cell_type": "markdown",
      "source": [
        "## extchanging public keys..."
      ],
      "metadata": {
        "id": "1CVDBxaTER0o"
      }
    },
    {
      "cell_type": "markdown",
      "source": [
        "`S_A = private_key_a * B`\n",
        "\n",
        "`S_B = private_key_b * A`\n",
        "\n",
        "Shared secret: `S_A == S_b`"
      ],
      "metadata": {
        "id": "pUSv7RB3EodY"
      }
    },
    {
      "cell_type": "markdown",
      "source": [
        "## Alice"
      ],
      "metadata": {
        "id": "3W6XYPJwEZzH"
      }
    },
    {
      "cell_type": "code",
      "source": [
        "S_A = multiply_point_by_scalar_mod_P(point=B, scalar=private_key_a, P=P, a=a)\n",
        "print(S_A)"
      ],
      "metadata": {
        "colab": {
          "base_uri": "https://localhost:8080/"
        },
        "id": "0CF4cWlwCsOK",
        "outputId": "7037a8ef-3b13-4a4d-c146-22ca97535ffe"
      },
      "execution_count": 42,
      "outputs": [
        {
          "output_type": "stream",
          "name": "stdout",
          "text": [
            "(80, 10)\n"
          ]
        }
      ]
    },
    {
      "cell_type": "markdown",
      "source": [
        "## Bob"
      ],
      "metadata": {
        "id": "s6BEQt5zEa9M"
      }
    },
    {
      "cell_type": "code",
      "source": [
        "S_B = multiply_point_by_scalar_mod_P(point=A, scalar=private_key_b, P=P, a=a)\n",
        "print(S_B)"
      ],
      "metadata": {
        "colab": {
          "base_uri": "https://localhost:8080/"
        },
        "id": "IiJQPFYRF8B4",
        "outputId": "3ee9d476-f2de-4423-b8f6-17f1aef15ef0"
      },
      "execution_count": 43,
      "outputs": [
        {
          "output_type": "stream",
          "name": "stdout",
          "text": [
            "(80, 10)\n"
          ]
        }
      ]
    },
    {
      "cell_type": "code",
      "source": [
        "print(S_A == S_B)"
      ],
      "metadata": {
        "id": "R3YUHN2NDfZL",
        "outputId": "78aae49b-601b-413b-a45e-9029ca51c1ba",
        "colab": {
          "base_uri": "https://localhost:8080/"
        }
      },
      "execution_count": 44,
      "outputs": [
        {
          "output_type": "stream",
          "name": "stdout",
          "text": [
            "True\n"
          ]
        }
      ]
    },
    {
      "cell_type": "code",
      "source": [
        "from cryptography.hazmat.primitives.kdf.hkdf import HKDF\n",
        "from cryptography.hazmat.primitives import hashes\n",
        "from cryptography.hazmat.backends import default_backend\n",
        "\n",
        "# shared secret (an integer)\n",
        "shared_secret_int = S_A[0]\n",
        "\n",
        "# Calculate the number of bytes needed to represent the integer\n",
        "num_bytes = (shared_secret_int.bit_length() + 7) // 8\n",
        "\n",
        "# Convert the integer to a byte array\n",
        "shared_secret_bytes = shared_secret_int.to_bytes(num_bytes, byteorder='big')\n",
        "\n",
        "# Derive a key using HKDF\n",
        "# Choose the desired output length of the key (e.g., 32 bytes for AES-256)\n",
        "output_key_length = 16\n",
        "\n",
        "# Create HKDF instance\n",
        "hkdf = HKDF(\n",
        "    algorithm=hashes.SHA256(),\n",
        "    length=output_key_length,\n",
        "    salt=None,  # Can be None or a randomly generated value\n",
        "    info=b'handshake data',  # Optional context-specific info\n",
        "    backend=default_backend()\n",
        ")\n",
        "\n",
        "# Perform key derivation\n",
        "derived_key = hkdf.derive(shared_secret_bytes)\n",
        "\n",
        "print(\"Derived Key:\", derived_key.hex())\n"
      ],
      "metadata": {
        "id": "MjMjjzYY-7UL",
        "outputId": "c2921083-82ee-46df-c4c1-b9c7e0ce7278",
        "colab": {
          "base_uri": "https://localhost:8080/"
        }
      },
      "execution_count": 45,
      "outputs": [
        {
          "output_type": "stream",
          "name": "stdout",
          "text": [
            "Derived Key: 53a5f6b499e96a7e0513e099b0bdccb4\n"
          ]
        }
      ]
    }
  ]
}