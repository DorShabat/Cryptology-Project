{
  "nbformat": 4,
  "nbformat_minor": 0,
  "metadata": {
    "colab": {
      "provenance": [],
      "include_colab_link": true
    },
    "kernelspec": {
      "name": "python3",
      "display_name": "Python 3"
    },
    "language_info": {
      "name": "python"
    }
  },
  "cells": [
    {
      "cell_type": "markdown",
      "metadata": {
        "id": "view-in-github",
        "colab_type": "text"
      },
      "source": [
        "<a href=\"https://colab.research.google.com/github/DorShabat/Cryptology-Project/blob/main/combined.ipynb\" target=\"_parent\"><img src=\"https://colab.research.google.com/assets/colab-badge.svg\" alt=\"Open In Colab\"/></a>"
      ]
    },
    {
      "cell_type": "markdown",
      "source": [
        "# Pip install and Imports"
      ],
      "metadata": {
        "id": "cwQo8d8z4a3u"
      }
    },
    {
      "cell_type": "code",
      "source": [
        "%%capture\n",
        "!pip install cryptography # for derive shared key from shared secret.\n",
        "!pip install gmpy2 # for precision calculations."
      ],
      "metadata": {
        "id": "30Ta422T_FXh"
      },
      "execution_count": 1,
      "outputs": []
    },
    {
      "cell_type": "markdown",
      "source": [
        "## imports:"
      ],
      "metadata": {
        "id": "DIyLVeMS_3qh"
      }
    },
    {
      "cell_type": "code",
      "source": [
        "import numpy as np\n",
        "import sympy\n",
        "import os\n",
        "import random\n",
        "import hashlib\n",
        "from sympy.ntheory.generate import randprime\n",
        "import gmpy2\n",
        "\n",
        "# for derive shared key from shared secret:\n",
        "from cryptography.hazmat.primitives.kdf.hkdf import HKDF\n",
        "from cryptography.hazmat.primitives import hashes\n",
        "from cryptography.hazmat.backends import default_backend"
      ],
      "metadata": {
        "id": "l8slg_az_6mI"
      },
      "execution_count": 2,
      "outputs": []
    },
    {
      "cell_type": "markdown",
      "source": [
        "# The Elliptic Curve Diffie-Hellman (ECDH)"
      ],
      "metadata": {
        "id": "JluaAW2IqP_d"
      }
    },
    {
      "cell_type": "markdown",
      "source": [
        "## Define the Elliptic Curve"
      ],
      "metadata": {
        "id": "TeOE_jXPBQsx"
      }
    },
    {
      "cell_type": "markdown",
      "source": [
        "### helping functions:"
      ],
      "metadata": {
        "id": "zlNcvHKVKpNN"
      }
    },
    {
      "cell_type": "code",
      "source": [
        "def point_addition(P1, P2, P, a):\n",
        "    if P1 == (None, None):\n",
        "        return P2\n",
        "    if P2 == (None, None):\n",
        "        return P1\n",
        "    if P1 == P2:\n",
        "        return point_doubling(P1, P, a)\n",
        "\n",
        "    x1, y1 = P1\n",
        "    x2, y2 = P2\n",
        "\n",
        "    if x1 == x2 and (y1 + y2) % P == 0:\n",
        "        return (None, None)\n",
        "\n",
        "    m = (y2 - y1) * pow(x2 - x1, -1, P) % P\n",
        "    x3 = (m * m - x1 - x2) % P\n",
        "    y3 = (m * (x1 - x3) - y1) % P\n",
        "\n",
        "    return (x3, y3)\n",
        "\n",
        "def point_doubling(P1, P, a):\n",
        "    if P1 == (None, None):\n",
        "        return (None, None)\n",
        "\n",
        "    x1, y1 = P1\n",
        "\n",
        "    m = (3 * x1 * x1 + a) * pow(2 * y1, -1, P) % P\n",
        "    x3 = (m * m - 2 * x1) % P\n",
        "    y3 = (m * (x1 - x3) - y1) % P\n",
        "\n",
        "    return (x3, y3)\n",
        "\n",
        "\n",
        "def multiply_point_by_scalar_mod_P(point, scalar, P, a):\n",
        "    \"\"\"\n",
        "    Multiplies a point on an elliptic curve by a scalar using the double-and-add algorithm.\n",
        "\n",
        "    Parameters:\n",
        "    point (tuple): The point on the elliptic curve (x, y).\n",
        "    scalar (int): The scalar to multiply the point by.\n",
        "    P (int): The prime order of the finite field.\n",
        "    a (int): The coefficient 'a' in the elliptic curve equation y^2 = x^3 + ax + b.\n",
        "\n",
        "    Returns:\n",
        "    tuple: The resulting point after multiplication.\n",
        "    \"\"\"\n",
        "\n",
        "    result = (None, None)\n",
        "    addend = point\n",
        "\n",
        "    while scalar:\n",
        "        if scalar & 1:\n",
        "            result = point_addition(result, addend, P, a)\n",
        "        addend = point_doubling(addend, P, a)\n",
        "        scalar >>= 1\n",
        "\n",
        "    return result"
      ],
      "metadata": {
        "id": "R2ruuLSLGLDy"
      },
      "execution_count": 3,
      "outputs": []
    },
    {
      "cell_type": "markdown",
      "source": [
        "### parametes defining:"
      ],
      "metadata": {
        "id": "pXuy8EJeKumL"
      }
    },
    {
      "cell_type": "code",
      "source": [
        "# well known parameters:\n",
        "P = 6277101735386680763835789423207666416083908700390324961279\n",
        "a = 6277101735386680763835789423207666416083908700390324961276\n",
        "b = 2455155546008943817740293915197451784769108058161191238065\n",
        "Gx = 602046282375688656758213480587526111916698976636884684818\n",
        "Gy = 174050332293622031404857552280219410364023488927386650641\n",
        "G = (Gx, Gy)"
      ],
      "metadata": {
        "id": "525GBBSKDCDh"
      },
      "execution_count": 4,
      "outputs": []
    },
    {
      "cell_type": "code",
      "source": [
        "# small numbers example:\n",
        "a = 2\n",
        "b = 3\n",
        "P = 97 #prime number\n",
        "G = (3, 6)"
      ],
      "metadata": {
        "id": "eo2CgwrWBSbv"
      },
      "execution_count": 5,
      "outputs": []
    },
    {
      "cell_type": "markdown",
      "source": [
        "## Alice"
      ],
      "metadata": {
        "id": "nXYfGtAJ_2dH"
      }
    },
    {
      "cell_type": "code",
      "execution_count": 6,
      "metadata": {
        "colab": {
          "base_uri": "https://localhost:8080/"
        },
        "collapsed": true,
        "id": "Qe58GhRfp0t8",
        "outputId": "343bac4a-c583-4505-9a3c-29d6214e1451"
      },
      "outputs": [
        {
          "output_type": "stream",
          "name": "stdout",
          "text": [
            "(3, 6)\n"
          ]
        }
      ],
      "source": [
        "# private key:\n",
        "private_key_a = 621\n",
        "# public key:\n",
        "A = multiply_point_by_scalar_mod_P(point=G, scalar=private_key_a, P=P, a=a)\n",
        "print(A)"
      ]
    },
    {
      "cell_type": "markdown",
      "source": [
        "## Bob"
      ],
      "metadata": {
        "id": "7Q0ZT16O_8Zp"
      }
    },
    {
      "cell_type": "code",
      "source": [
        "# private key : b\n",
        "private_key_b = 77\n",
        "# public key : B = bG\n",
        "B = multiply_point_by_scalar_mod_P(point=G, scalar=private_key_b, P=P, a=a)\n",
        "print(B)"
      ],
      "metadata": {
        "colab": {
          "base_uri": "https://localhost:8080/"
        },
        "id": "smuR0lgx_-I3",
        "outputId": "186e0c1e-fb18-4c07-ada7-7079eb901fbc"
      },
      "execution_count": 7,
      "outputs": [
        {
          "output_type": "stream",
          "name": "stdout",
          "text": [
            "(80, 10)\n"
          ]
        }
      ]
    },
    {
      "cell_type": "markdown",
      "source": [
        "## Extchanging public keys..."
      ],
      "metadata": {
        "id": "1CVDBxaTER0o"
      }
    },
    {
      "cell_type": "markdown",
      "source": [
        "`S_A = private_key_a * B`\n",
        "\n",
        "`S_B = private_key_b * A`\n",
        "\n",
        "Shared secret: `S_A == S_b`"
      ],
      "metadata": {
        "id": "pUSv7RB3EodY"
      }
    },
    {
      "cell_type": "markdown",
      "source": [
        "## Alice"
      ],
      "metadata": {
        "id": "3W6XYPJwEZzH"
      }
    },
    {
      "cell_type": "code",
      "source": [
        "S_A = multiply_point_by_scalar_mod_P(point=B, scalar=private_key_a, P=P, a=a)\n",
        "print(S_A)"
      ],
      "metadata": {
        "colab": {
          "base_uri": "https://localhost:8080/"
        },
        "id": "0CF4cWlwCsOK",
        "outputId": "6c246231-1ea0-4aff-94c8-cf3a9c6dac2c"
      },
      "execution_count": 8,
      "outputs": [
        {
          "output_type": "stream",
          "name": "stdout",
          "text": [
            "(80, 10)\n"
          ]
        }
      ]
    },
    {
      "cell_type": "markdown",
      "source": [
        "## Bob"
      ],
      "metadata": {
        "id": "s6BEQt5zEa9M"
      }
    },
    {
      "cell_type": "code",
      "source": [
        "S_B = multiply_point_by_scalar_mod_P(point=A, scalar=private_key_b, P=P, a=a)\n",
        "print(S_B)"
      ],
      "metadata": {
        "colab": {
          "base_uri": "https://localhost:8080/"
        },
        "id": "IiJQPFYRF8B4",
        "outputId": "70a22be8-47ba-4bc5-bee3-9f80f545eb50"
      },
      "execution_count": 9,
      "outputs": [
        {
          "output_type": "stream",
          "name": "stdout",
          "text": [
            "(80, 10)\n"
          ]
        }
      ]
    },
    {
      "cell_type": "code",
      "source": [
        "if S_A == S_B:\n",
        "  shared_secret = S_A\n",
        "  print(\"Alice and Bob now shared a secret point.\")\n",
        "else:\n",
        "  print(\"Alice and Bob shared different secrets.\")"
      ],
      "metadata": {
        "id": "R3YUHN2NDfZL",
        "outputId": "37e08f90-d82a-4140-86bf-e07e5c871b14",
        "colab": {
          "base_uri": "https://localhost:8080/"
        }
      },
      "execution_count": 10,
      "outputs": [
        {
          "output_type": "stream",
          "name": "stdout",
          "text": [
            "Alice and Bob now shared a secret point.\n"
          ]
        }
      ]
    },
    {
      "cell_type": "markdown",
      "source": [
        "## Derive a shared key from the shared secret:"
      ],
      "metadata": {
        "id": "7NYG2a1eI1RP"
      }
    },
    {
      "cell_type": "code",
      "source": [
        "# shared secret (an integer): GxGy\n",
        "shared_secret_int = shared_secret[0] * (10 ** len(str(shared_secret[0]))) + shared_secret[1]\n",
        "\n",
        "# Calculate the number of bytes needed to represent the integer\n",
        "num_bytes = (shared_secret_int.bit_length() + 7) // 8\n",
        "\n",
        "# Convert the integer to a byte array\n",
        "shared_secret_bytes = shared_secret_int.to_bytes(num_bytes, byteorder='big')\n",
        "\n",
        "# Derive a key using HKDF\n",
        "# Choose the desired output length of the key\n",
        "output_key_length = 16 # 16-byte = 128-bit\n",
        "\n",
        "# Create HKDF instance\n",
        "hkdf = HKDF(\n",
        "    algorithm=hashes.SHA256(),\n",
        "    length=output_key_length,\n",
        "    salt=None,\n",
        "    info=b'handshake data',\n",
        "    backend=default_backend()\n",
        ")\n",
        "\n",
        "# Perform key derivation\n",
        "shared_key = hkdf.derive(shared_secret_bytes)\n",
        "\n",
        "print(\"Derived Key:\", shared_key.hex())\n"
      ],
      "metadata": {
        "id": "MjMjjzYY-7UL",
        "outputId": "ddf87572-53fc-484d-fd61-6ddbb9565a23",
        "colab": {
          "base_uri": "https://localhost:8080/"
        }
      },
      "execution_count": 11,
      "outputs": [
        {
          "output_type": "stream",
          "name": "stdout",
          "text": [
            "Derived Key: 55323c3cd820695175f5b961b1c77116\n"
          ]
        }
      ]
    },
    {
      "cell_type": "markdown",
      "source": [
        "# Alice - SM4 + Schnorr"
      ],
      "metadata": {
        "id": "CfUqowtGjkp2"
      }
    },
    {
      "cell_type": "markdown",
      "source": [
        "## SM4 functions"
      ],
      "metadata": {
        "id": "DT4Buhut0f_L"
      }
    },
    {
      "cell_type": "markdown",
      "source": [
        "### SM4 CONSTANTS"
      ],
      "metadata": {
        "id": "WRyjZO63zuvN"
      }
    },
    {
      "cell_type": "code",
      "source": [
        "SBOX = [\n",
        "    0xd6, 0x90, 0xe9, 0xfe, 0xcc, 0xe1, 0x3d, 0xb7, 0x16, 0xb6, 0x14, 0xc2, 0x28, 0xfb, 0x2c, 0x05,\n",
        "    0x2b, 0x67, 0x9a, 0x76, 0x2a, 0xbe, 0x04, 0xc3, 0xaa, 0x44, 0x13, 0x26, 0x49, 0x86, 0x06, 0x99,\n",
        "    0x9c, 0x42, 0x50, 0xf4, 0x91, 0xef, 0x98, 0x7a, 0x33, 0x54, 0x0b, 0x43, 0xed, 0xcf, 0xac, 0x62,\n",
        "    0xe4, 0xb3, 0x1c, 0xa9, 0xc9, 0x08, 0xe8, 0x95, 0x80, 0xdf, 0x94, 0xfa, 0x75, 0x8f, 0x3f, 0xa6,\n",
        "    0x47, 0x07, 0xa7, 0xfc, 0xf3, 0x73, 0x17, 0xba, 0x83, 0x59, 0x3c, 0x19, 0xe6, 0x85, 0x4f, 0xa8,\n",
        "    0x68, 0x6b, 0x81, 0xb2, 0x71, 0x64, 0xda, 0x8b, 0xf8, 0xeb, 0x0f, 0x4b, 0x70, 0x56, 0x9d, 0x35,\n",
        "    0x1e, 0x24, 0x0e, 0x5e, 0x63, 0x58, 0xd1, 0xa2, 0x25, 0x22, 0x7c, 0x3b, 0x01, 0x21, 0x78, 0x87,\n",
        "    0xd4, 0x00, 0x46, 0x57, 0x9f, 0xd3, 0x27, 0x52, 0x4c, 0x36, 0x02, 0xe7, 0xa0, 0xc4, 0xc8, 0x9e,\n",
        "    0xea, 0xbf, 0x8a, 0xd2, 0x40, 0xc7, 0x38, 0xb5, 0xa3, 0xf7, 0xf2, 0xce, 0xf9, 0x61, 0x15, 0xa1,\n",
        "    0xe0, 0xae, 0x5d, 0xa4, 0x9b, 0x34, 0x1a, 0x55, 0xad, 0x93, 0x32, 0x30, 0xf5, 0x8c, 0xb1, 0xe3,\n",
        "    0x1d, 0xf6, 0xe2, 0x2e, 0x82, 0x66, 0xca, 0x60, 0xc0, 0x29, 0x23, 0xab, 0x0d, 0x53, 0x4e, 0x6f,\n",
        "    0xd5, 0xdb, 0x37, 0x45, 0xde, 0xfd, 0x8e, 0x2f, 0x03, 0xff, 0x6a, 0x72, 0x6d, 0x6c, 0x5b, 0x51,\n",
        "    0x8d, 0x1b, 0xaf, 0x92, 0xbb, 0xdd, 0xbc, 0x7f, 0x11, 0xd9, 0x5c, 0x41, 0x1f, 0x10, 0x5a, 0xd8,\n",
        "    0x0a, 0xc1, 0x31, 0x88, 0xa5, 0xcd, 0x7b, 0xbd, 0x2d, 0x74, 0xd0, 0x12, 0xb8, 0xe5, 0xb4, 0xb0,\n",
        "    0x89, 0x69, 0x97, 0x4a, 0x0c, 0x96, 0x77, 0x7e, 0x65, 0xb9, 0xf1, 0x09, 0xc5, 0x6e, 0xc6, 0x84,\n",
        "    0x18, 0xf0, 0x7d, 0xec, 0x3a, 0xdc, 0x4d, 0x20, 0x79, 0xee, 0x5f, 0x3e, 0xd7, 0xcb, 0x39, 0x48\n",
        "]\n",
        "\n",
        "FK = [0xa3b1bac6, 0x56aa3350, 0x677d9197, 0xb27022dc]\n",
        "\n",
        "CK = [\n",
        "    0x00070e15, 0x1c232a31, 0x383f464d, 0x545b6269,\n",
        "    0x70777e85, 0x8c939aa1, 0xa8afb6bd, 0xc4cbd2d9,\n",
        "    0xe0e7eef5, 0xfc030a11, 0x181f262d, 0x343b4249,\n",
        "    0x50575e65, 0x6c737a81, 0x888f969d, 0xa4abb2b9,\n",
        "    0xc0c7ced5, 0xdce3eaf1, 0xf8ff060d, 0x141b2229,\n",
        "    0x30373e45, 0x4c535a61, 0x686f767d, 0x848b9299,\n",
        "    0xa0a7aeb5, 0xbcc3cad1, 0xd8dfe6ed, 0xf4fb0209,\n",
        "    0x10171e25, 0x2c333a41, 0x484f565d, 0x646b7279\n",
        "]"
      ],
      "metadata": {
        "id": "aW4H4htsmlkB"
      },
      "execution_count": 19,
      "outputs": []
    },
    {
      "cell_type": "markdown",
      "source": [
        "### SM4 helper Functions"
      ],
      "metadata": {
        "id": "IBG98JzflfCf"
      }
    },
    {
      "cell_type": "markdown",
      "source": [
        "functions for both Key Expantion, Decryption - Encryption."
      ],
      "metadata": {
        "id": "1xkSqm9dz2mt"
      }
    },
    {
      "cell_type": "code",
      "source": [
        "def rotl(x, n):\n",
        "    # Rotate left: shift x to the left by n bits and wrap around the overflowed bits to the right\n",
        "    return ((x << n) & 0xFFFFFFFF) | (x >> (32 - n))\n",
        "\n",
        "def tau(a):\n",
        "    # Non-linear substitution using the S-Box. Each byte of the input is substituted using the S-Box\n",
        "    return [\n",
        "        SBOX[(a >> 24) & 0xFF],  # Substitution for the highest byte\n",
        "        SBOX[(a >> 16) & 0xFF],  # Substitution for the second byte\n",
        "        SBOX[(a >> 8) & 0xFF],   # Substitution for the third byte\n",
        "        SBOX[a & 0xFF]           # Substitution for the lowest byte\n",
        "    ]"
      ],
      "metadata": {
        "id": "HsR64Y4amBuN"
      },
      "execution_count": 20,
      "outputs": []
    },
    {
      "cell_type": "markdown",
      "source": [
        "### Key Expantion"
      ],
      "metadata": {
        "id": "8T3rfEAdlyR1"
      }
    },
    {
      "cell_type": "code",
      "source": [
        "def l_key(b):\n",
        "    # Linear transformation for key expansion: rotate and XOR operations\n",
        "    return b ^ rotl(b, 13) ^ rotl(b, 23)\n",
        "\n",
        "def t_key(a):\n",
        "    # Apply tau and then l_key to the input for key expansion\n",
        "    a = tau(a)\n",
        "    result = l_key((a[0] << 24) | (a[1] << 16) | (a[2] << 8) | a[3])\n",
        "    return result\n",
        "\n",
        "def key_expansion(key):\n",
        "    # Key expansion to generate round keys from the original key\n",
        "    MK = [(key[i * 4] << 24) | (key[i * 4 + 1] << 16) | (key[i * 4 + 2] << 8) | key[i * 4 + 3] for i in range(4)]\n",
        "    K = [MK[i] ^ FK[i] for i in range(4)]\n",
        "    rk = []\n",
        "    for i in range(32):\n",
        "        K.append(K[i] ^ t_key(K[i + 1] ^ K[i + 2] ^ K[i + 3] ^ CK[i]))\n",
        "        rk.append(K[-1])\n",
        "    return rk"
      ],
      "metadata": {
        "id": "7CbMMwhjl-Jf"
      },
      "execution_count": 21,
      "outputs": []
    },
    {
      "cell_type": "markdown",
      "source": [
        "### Decryption - Encryption"
      ],
      "metadata": {
        "id": "nZ8Lk_iOl1jY"
      }
    },
    {
      "cell_type": "code",
      "source": [
        "def l_b(b):\n",
        "    # Linear transformation: rotate and XOR operations to achieve diffusion\n",
        "    return b ^ rotl(b, 2) ^ rotl(b, 10) ^ rotl(b, 18) ^ rotl(b, 24)\n",
        "\n",
        "def t(a):\n",
        "    # Apply tau and then l_b to the input\n",
        "    a = tau(a)\n",
        "    result = l_b((a[0] << 24) | (a[1] << 16) | (a[2] << 8) | a[3])\n",
        "    return result\n",
        "\n",
        "def sm4_encrypt_block(plaintext, rk):\n",
        "    # Encrypt a single block of plaintext using the round keys\n",
        "    X = [(plaintext[i * 4] << 24) | (plaintext[i * 4 + 1] << 16) | (plaintext[i * 4 + 2] << 8) | plaintext[i * 4 + 3] for i in range(4)]\n",
        "    for i in range(32):\n",
        "        temp = t(X[i + 1] ^ X[i + 2] ^ X[i + 3] ^ rk[i])\n",
        "        X.append(X[i] ^ temp)\n",
        "    ciphertext = [(X[35 - i] >> (24 - j * 8)) & 0xFF for i in range(4) for j in range(4)]\n",
        "    return ciphertext\n",
        "\n",
        "def sm4_decrypt_block(ciphertext, rk):\n",
        "    # Decrypt a single block of ciphertext using the round keys\n",
        "    return sm4_encrypt_block(ciphertext, rk[::-1])"
      ],
      "metadata": {
        "id": "WGqev92nmnsr"
      },
      "execution_count": 22,
      "outputs": []
    },
    {
      "cell_type": "markdown",
      "source": [
        "### Split text into blocks"
      ],
      "metadata": {
        "id": "bZEr-3kMtQpX"
      }
    },
    {
      "cell_type": "code",
      "source": [
        "# Function to split text into 128-bit blocks and pad if necessary\n",
        "# can split into how many bit user wants, block_size = 8 -> 64 bit , 16 -> 128 bit ..\n",
        "def split_into_blocks(text, block_size=16):\n",
        "    # Ensure text length is a multiple of block_size\n",
        "    padding_length = block_size - (len(text) % block_size)\n",
        "    text += bytes([padding_length] * padding_length)\n",
        "    # Split text into blocks\n",
        "    return [text[i:i+block_size] for i in range(0, len(text), block_size)]"
      ],
      "metadata": {
        "id": "7zksijJFtbv6"
      },
      "execution_count": 23,
      "outputs": []
    },
    {
      "cell_type": "markdown",
      "source": [
        "### Functions to call Encrypt, Decrypt, key using sm4 with ECB mode"
      ],
      "metadata": {
        "id": "Pgbpjz6-t2DY"
      }
    },
    {
      "cell_type": "code",
      "source": [
        "# Function to encrypt text using ECB mode\n",
        "def sm4_encrypt_ecb(text, key):\n",
        "    rk = key_expansion(key)\n",
        "    blocks = split_into_blocks(text)\n",
        "    ciphertext = []\n",
        "    for block in blocks:\n",
        "        ciphertext_block = sm4_encrypt_block(block, rk)\n",
        "        ciphertext.extend(ciphertext_block)\n",
        "    return ciphertext\n",
        "\n",
        "# Function to decrypt text using ECB mode\n",
        "def sm4_decrypt_ecb(ciphertext, key):\n",
        "    rk = key_expansion(key)\n",
        "    blocks = [ciphertext[i:i+16] for i in range(0, len(ciphertext), 16)]\n",
        "    plaintext = []\n",
        "    for block in blocks:\n",
        "        plaintext_block = sm4_decrypt_block(block, rk)\n",
        "        plaintext.extend(plaintext_block)\n",
        "    # Remove padding\n",
        "    padding_length = plaintext[-1]\n",
        "    return plaintext[:-padding_length]"
      ],
      "metadata": {
        "id": "j_2uQcYjp-6o"
      },
      "execution_count": 24,
      "outputs": []
    },
    {
      "cell_type": "markdown",
      "source": [
        "## Alice encrypt text"
      ],
      "metadata": {
        "id": "H_6lzps8t-am"
      }
    },
    {
      "cell_type": "code",
      "source": [
        "key = shared_key #using the key that alice got\n",
        "plaintext_msg = b'Alice`s bank account details.'\n",
        "\n",
        "ciphertext = sm4_encrypt_ecb(plaintext_msg, key)\n",
        "decrypted_plaintext = sm4_decrypt_ecb(ciphertext, key)\n",
        "\n",
        "print(\"Plaintext:\", plaintext_msg.decode())\n",
        "print(\"Plaintext:\", ' '.join([f'{x:02X}' for x in plaintext_msg]))\n",
        "print(\"Ciphertext:\", ' '.join([f'{x:02X}' for x in ciphertext]))\n",
        "\n",
        "#alice wants to check the algorithem:\n",
        "print(\"Decrypted Plaintext:\", ' '.join([f'{x:02X}' for x in decrypted_plaintext]))\n",
        "print(\"Decrypted Plaintext:\", bytes(decrypted_plaintext).decode())"
      ],
      "metadata": {
        "id": "T9L3y64cuBDj",
        "outputId": "47ab638a-befe-4bc8-bba5-9b6670c6e6d2",
        "colab": {
          "base_uri": "https://localhost:8080/"
        }
      },
      "execution_count": 25,
      "outputs": [
        {
          "output_type": "stream",
          "name": "stdout",
          "text": [
            "Plaintext: Alice`s bank account details.\n",
            "Plaintext: 41 6C 69 63 65 60 73 20 62 61 6E 6B 20 61 63 63 6F 75 6E 74 20 64 65 74 61 69 6C 73 2E\n",
            "Ciphertext: 83 58 56 83 B1 F9 4C 95 B5 F1 C5 E7 D7 04 64 D3 2C CF 6A 3D EE 67 6E 9F DE B9 D2 03 05 B8 72 01\n",
            "Decrypted Plaintext: 41 6C 69 63 65 60 73 20 62 61 6E 6B 20 61 63 63 6F 75 6E 74 20 64 65 74 61 69 6C 73 2E\n",
            "Decrypted Plaintext: Alice`s bank account details.\n"
          ]
        }
      ]
    },
    {
      "cell_type": "markdown",
      "source": [
        "# Schnorr signature"
      ],
      "metadata": {
        "id": "4rcMWEWKFK3w"
      }
    },
    {
      "cell_type": "markdown",
      "source": [
        "## functions for generating the mathematical parameters:"
      ],
      "metadata": {
        "id": "3lEpWzCL0_8n"
      }
    },
    {
      "cell_type": "code",
      "source": [
        "def get_factor_of_prime_minus_one(prime): # get the factor of prime - 1\n",
        "    if not sympy.isprime(prime):\n",
        "        raise ValueError(\"The input number is not a prime number.\")\n",
        "    p_minus_1 = prime - 1\n",
        "    factors = sympy.factorint(p_minus_1)\n",
        "    return max(factors.keys())\n",
        "\n",
        "\n",
        "def mod_exp(base, exp, mod): # modular exponentiation\n",
        "    base = gmpy2.mpz(base)\n",
        "    exp = gmpy2.mpz(exp)\n",
        "    mod = gmpy2.mpz(mod)\n",
        "    return gmpy2.powmod(base, exp, mod)\n",
        "\n",
        "\n",
        "def find_A(Q, P): # find the non-trivial solution to A^Q = 1 mod P\n",
        "    if Q == 0:\n",
        "        raise ValueError(\"Q must be non-zero.\")\n",
        "    if P <= 1:\n",
        "        raise ValueError(\"P must be greater than 1.\")\n",
        "    A = gmpy2.mpz(2)\n",
        "    while A < P:\n",
        "        if mod_exp(A, Q, P) == 1:\n",
        "            return A\n",
        "        A += 1\n",
        "    raise ValueError(\"No non-trivial solution found.\")\n",
        "\n",
        "\n",
        "def mod_inverse(A, Q): # find the modular inverse of A under modulo Q\n",
        "    A = gmpy2.mpz(A)\n",
        "    Q = gmpy2.mpz(Q)\n",
        "    g, x, y = extended_gcd(A, Q)\n",
        "    if g != 1:\n",
        "        raise ValueError(f\"Modular inverse does not exist for A={A} and Q={Q}\")\n",
        "    else:\n",
        "        return x % Q\n",
        "\n",
        "\n",
        "def extended_gcd(a, b): # Extended Euclidean Algorithm\n",
        "    if a == 0:\n",
        "        return b, 0, 1\n",
        "    else:\n",
        "        g, x1, y1 = extended_gcd(b % a, a)\n",
        "        x = y1 - (b // a) * x1\n",
        "        y = x1\n",
        "        return g, x, y\n",
        "\n",
        "\n",
        "def calculate_V(A, s, P): # Calculate V as A^(-s) mod P\n",
        "    A = gmpy2.mpz(A)\n",
        "    s = gmpy2.mpz(s)\n",
        "    P = gmpy2.mpz(P)\n",
        "    V = gmpy2.powmod(A, -s, P)\n",
        "    return V\n",
        "\n",
        "\n",
        "def hash_function(data): # Hash function\n",
        "    if isinstance(data, str):\n",
        "        data = data.encode('utf-8')\n",
        "    sha256 = hashlib.sha256()\n",
        "    sha256.update(data)\n",
        "    return sha256.hexdigest()"
      ],
      "metadata": {
        "id": "MBi1s__u1UCV"
      },
      "execution_count": 26,
      "outputs": []
    },
    {
      "cell_type": "markdown",
      "source": [
        "## Networking:"
      ],
      "metadata": {
        "id": "duAJ57e11Lpl"
      }
    },
    {
      "cell_type": "markdown",
      "source": [
        "## Alice Sign and send"
      ],
      "metadata": {
        "id": "e1EH_nj-8D0J"
      }
    },
    {
      "cell_type": "markdown",
      "source": [
        "***Sign:***\n",
        "\n",
        "`M = message to be signed`\n",
        "\n",
        "global agreed:\n",
        "```\n",
        "P = a prime number     # typically 1024-bit\n",
        "Q = a factor of P-1    # typically 160-bit\n",
        "A = a^Q === 1 mod P\n",
        "```\n",
        "private key:\n",
        "`s = random 0 < s < Q`\n",
        "\n",
        "public verification key:\n",
        "`V = A^(-s) mod P`\n",
        "\n",
        "for signing:\n",
        "```\n",
        "r = random 0 < r < Q\n",
        "x = A^r mod P\n",
        "e = Hash(M||x)\n",
        "y = (r+se)modQ\n",
        "```\n",
        "\n",
        "Send: `ciphertext | Signature(e , y) `\n"
      ],
      "metadata": {
        "id": "yWcqb4869o9m"
      }
    },
    {
      "cell_type": "markdown",
      "source": [
        "### generate parameters:"
      ],
      "metadata": {
        "id": "fX_Omqjf92_p"
      }
    },
    {
      "cell_type": "code",
      "source": [
        "M = plaintext_msg\n",
        "\n",
        "# P = randprime(2**1023, 2**1024 - 1)\n",
        "P = randprime(2**32, 2**33 - 1)                # typicalyy 1024-bit number\n",
        "Q = get_factor_of_prime_minus_one(P)           # typically 160-bit number\n",
        "A = find_A(Q, P)\n",
        "s = random.randint(1, Q-1)\n",
        "V = calculate_V(A, s, P)\n",
        "r = random.randint(1, Q-1)\n",
        "x = mod_exp(A, r, P)\n",
        "e = hash_function(str(M) + str(x))\n",
        "y = (r + s*int(e, 16)) % Q"
      ],
      "metadata": {
        "id": "O3TIt1yZ9yoE"
      },
      "execution_count": 27,
      "outputs": []
    },
    {
      "cell_type": "markdown",
      "source": [
        "### parameters printing:"
      ],
      "metadata": {
        "id": "h3P4i8gO-sRH"
      }
    },
    {
      "cell_type": "code",
      "source": [
        "print(f'P = {P}')\n",
        "print(f'Q = {Q}')\n",
        "print(f'A = {A}')\n",
        "print(f's = {s}')\n",
        "print(f'V = {V}')\n",
        "print(f'r = {r}')\n",
        "print(f'x = {x}')\n",
        "print(f'e = {e}')\n",
        "print(f'y = {y}')"
      ],
      "metadata": {
        "colab": {
          "base_uri": "https://localhost:8080/"
        },
        "id": "sCDgajYD-rPB",
        "outputId": "b60f29b6-5cae-497d-a931-c0fc5a95b7bb"
      },
      "execution_count": 28,
      "outputs": [
        {
          "output_type": "stream",
          "name": "stdout",
          "text": [
            "P = 5297840599\n",
            "Q = 2367221\n",
            "A = 427\n",
            "s = 1142827\n",
            "V = 3787623612\n",
            "r = 374489\n",
            "x = 1162997539\n",
            "e = 0f97e606f10b8ccc6c4d4d4d988137b39612dc0f9381eba0a51742b6b8eec3c5\n",
            "y = 1454441\n"
          ]
        }
      ]
    },
    {
      "cell_type": "markdown",
      "source": [
        "# Bob"
      ],
      "metadata": {
        "id": "zmBe8fnm8aOl"
      }
    },
    {
      "cell_type": "markdown",
      "source": [
        "\n",
        "*** Verification:***\n",
        "  \n",
        "Received:\n",
        "`(ciphertext,  e,  y)`\n",
        "\n",
        "Known publicly:\n",
        "`(A,  P,  V)`\n",
        "\n",
        "compute:\n",
        "* `x' = (A^y * V^e) mod P`\n",
        "* `e' = H( M || x' )`"
      ],
      "metadata": {
        "id": "fGQmWiV583qi"
      }
    },
    {
      "cell_type": "markdown",
      "source": [
        "### print what recived and known:"
      ],
      "metadata": {
        "id": "hLKQ1B42_EPh"
      }
    },
    {
      "cell_type": "code",
      "source": [
        "print(\"   Recived form alice:\\n\")\n",
        "print(f'ciphertext = **CIPHERD**')\n",
        "print(f'e = {e}')\n",
        "print(f'y = {y}')\n",
        "print(\"\\n\\n  known public parameters:\\n\")\n",
        "print(f'A = {A}')\n",
        "print(f'P = {P}')\n",
        "print(f'V = {V}')"
      ],
      "metadata": {
        "colab": {
          "base_uri": "https://localhost:8080/"
        },
        "id": "X6RUQcqg_Hi7",
        "outputId": "18c12287-a720-4394-ed78-ef175717ac37"
      },
      "execution_count": 29,
      "outputs": [
        {
          "output_type": "stream",
          "name": "stdout",
          "text": [
            "   Recived form alice:\n",
            "\n",
            "ciphertext = **CIPHERD**\n",
            "e = 0f97e606f10b8ccc6c4d4d4d988137b39612dc0f9381eba0a51742b6b8eec3c5\n",
            "y = 1454441\n",
            "\n",
            "\n",
            "  known public parameters:\n",
            "\n",
            "A = 427\n",
            "P = 5297840599\n",
            "V = 3787623612\n"
          ]
        }
      ]
    },
    {
      "cell_type": "markdown",
      "source": [
        "## Decrypt msg:"
      ],
      "metadata": {
        "id": "XY6IuWiQPB5C"
      }
    },
    {
      "cell_type": "code",
      "source": [
        "decrypted_plaintext = sm4_decrypt_ecb(ciphertext, key)\n",
        "print(\"Decrypted Plaintext:\", bytes(decrypted_plaintext).decode())"
      ],
      "metadata": {
        "colab": {
          "base_uri": "https://localhost:8080/"
        },
        "id": "8seyn4e6PJA8",
        "outputId": "c044a873-c3c6-4206-caee-d71dc9a59d64"
      },
      "execution_count": 30,
      "outputs": [
        {
          "output_type": "stream",
          "name": "stdout",
          "text": [
            "Decrypted Plaintext: Alice`s bank account details.\n"
          ]
        }
      ]
    },
    {
      "cell_type": "markdown",
      "source": [
        "### compute:"
      ],
      "metadata": {
        "id": "zQwXB-0JAHCf"
      }
    },
    {
      "cell_type": "code",
      "source": [
        "Ay = mod_exp(A, y, P)\n",
        "Ve = mod_exp(V, int(e, 16), P)\n",
        "AyVe = (Ay * Ve) % P\n",
        "x_tag = AyVe\n",
        "\n",
        "print(f\"Alice`s x value is {x} and Bob`s x' value is {x_tag}\")\n",
        "if(x == x_tag):\n",
        "  print(\"so, (x == x') = True\")\n",
        "else:\n",
        "  print(\"so, (x != x') = False\")"
      ],
      "metadata": {
        "id": "e75yv07f8eAH",
        "colab": {
          "base_uri": "https://localhost:8080/"
        },
        "outputId": "3cf7d850-281b-446c-848e-bc259e5ef4d5"
      },
      "execution_count": 31,
      "outputs": [
        {
          "output_type": "stream",
          "name": "stdout",
          "text": [
            "Alice`s x value is 1162997539 and Bob`s x' value is 1162997539\n",
            "so, (x == x') = True\n"
          ]
        }
      ]
    },
    {
      "cell_type": "markdown",
      "source": [
        "Technically, Bob should check if his computed x' is equal to Alice's x.\n",
        "\n",
        "`(x' == x)` But he doen't know Alice`s x value beacuse it private.\n",
        "\n",
        "So, Bob will Compute the e` by the hash function value and compare it with Alice's e value.\n",
        "\n",
        "`e' = H( M || x' )`"
      ],
      "metadata": {
        "id": "uVaJUZte8JEp"
      }
    },
    {
      "cell_type": "code",
      "source": [
        "decrypted_plaintext_bytes = bytes(decrypted_plaintext)\n",
        "e_tag = hash_function(str(decrypted_plaintext_bytes) + str(x_tag))\n",
        "\n",
        "print(f\"Alice`s e = {e}\")\n",
        "print(f\" Bob`s e' = {e_tag}\\n\")\n",
        "\n",
        "if(e == e_tag):\n",
        "  print(\"so, (e = e')\")\n",
        "  print(\"and it means the message M was really signed by Alice.\")\n",
        "else:\n",
        "  print(\"so, (e != e')\")\n",
        "  print(\"and it means the message M was not signed by Alice or it was alerted by someone in the way.\")\n"
      ],
      "metadata": {
        "colab": {
          "base_uri": "https://localhost:8080/"
        },
        "id": "wWpKNn9Z8Iy5",
        "outputId": "349cf490-c060-445c-ce52-cbdd318e2f74"
      },
      "execution_count": 32,
      "outputs": [
        {
          "output_type": "stream",
          "name": "stdout",
          "text": [
            "Alice`s e = 0f97e606f10b8ccc6c4d4d4d988137b39612dc0f9381eba0a51742b6b8eec3c5\n",
            " Bob`s e' = 0f97e606f10b8ccc6c4d4d4d988137b39612dc0f9381eba0a51742b6b8eec3c5\n",
            "\n",
            "so, (e = e')\n",
            "and it means the message M was really signed by Alice.\n"
          ]
        }
      ]
    }
  ]
}